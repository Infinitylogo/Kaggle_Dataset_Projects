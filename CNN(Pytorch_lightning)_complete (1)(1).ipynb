{
  "nbformat": 4,
  "nbformat_minor": 0,
  "metadata": {
    "colab": {
      "name": "CNN(Pytorch_lightning)_complete.ipynb",
      "provenance": [],
      "collapsed_sections": []
    },
    "kernelspec": {
      "name": "python3",
      "display_name": "Python 3"
    },
    "language_info": {
      "name": "python"
    },
    "widgets": {
      "application/vnd.jupyter.widget-state+json": {
        "705f9f4f4d434419a47cfec4e4e3254c": {
          "model_module": "@jupyter-widgets/controls",
          "model_name": "VBoxModel",
          "model_module_version": "1.5.0",
          "state": {
            "_dom_classes": [],
            "_model_module": "@jupyter-widgets/controls",
            "_model_module_version": "1.5.0",
            "_model_name": "VBoxModel",
            "_view_count": null,
            "_view_module": "@jupyter-widgets/controls",
            "_view_module_version": "1.5.0",
            "_view_name": "VBoxView",
            "box_style": "",
            "children": [
              "IPY_MODEL_c84a5db134a843069e78c88589bf57ad",
              "IPY_MODEL_2467ad52f9604be8a0770cb56e3477d6"
            ],
            "layout": "IPY_MODEL_5d741627af7147048e835dc0663a649b"
          }
        },
        "c84a5db134a843069e78c88589bf57ad": {
          "model_module": "@jupyter-widgets/controls",
          "model_name": "LabelModel",
          "model_module_version": "1.5.0",
          "state": {
            "_dom_classes": [],
            "_model_module": "@jupyter-widgets/controls",
            "_model_module_version": "1.5.0",
            "_model_name": "LabelModel",
            "_view_count": null,
            "_view_module": "@jupyter-widgets/controls",
            "_view_module_version": "1.5.0",
            "_view_name": "LabelView",
            "description": "",
            "description_tooltip": null,
            "layout": "IPY_MODEL_2abceb22095d49b6b5b84667097eea87",
            "placeholder": "​",
            "style": "IPY_MODEL_30240204e68941729c51a6de8cc90353",
            "value": "0.021 MB of 0.021 MB uploaded (0.000 MB deduped)\r"
          }
        },
        "2467ad52f9604be8a0770cb56e3477d6": {
          "model_module": "@jupyter-widgets/controls",
          "model_name": "FloatProgressModel",
          "model_module_version": "1.5.0",
          "state": {
            "_dom_classes": [],
            "_model_module": "@jupyter-widgets/controls",
            "_model_module_version": "1.5.0",
            "_model_name": "FloatProgressModel",
            "_view_count": null,
            "_view_module": "@jupyter-widgets/controls",
            "_view_module_version": "1.5.0",
            "_view_name": "ProgressView",
            "bar_style": "",
            "description": "",
            "description_tooltip": null,
            "layout": "IPY_MODEL_c2b9e318accc4c4383553ca5935c20f2",
            "max": 1,
            "min": 0,
            "orientation": "horizontal",
            "style": "IPY_MODEL_bcb99c52f5d142c4a4553d5f0ebb5b7a",
            "value": 1
          }
        },
        "5d741627af7147048e835dc0663a649b": {
          "model_module": "@jupyter-widgets/base",
          "model_name": "LayoutModel",
          "model_module_version": "1.2.0",
          "state": {
            "_model_module": "@jupyter-widgets/base",
            "_model_module_version": "1.2.0",
            "_model_name": "LayoutModel",
            "_view_count": null,
            "_view_module": "@jupyter-widgets/base",
            "_view_module_version": "1.2.0",
            "_view_name": "LayoutView",
            "align_content": null,
            "align_items": null,
            "align_self": null,
            "border": null,
            "bottom": null,
            "display": null,
            "flex": null,
            "flex_flow": null,
            "grid_area": null,
            "grid_auto_columns": null,
            "grid_auto_flow": null,
            "grid_auto_rows": null,
            "grid_column": null,
            "grid_gap": null,
            "grid_row": null,
            "grid_template_areas": null,
            "grid_template_columns": null,
            "grid_template_rows": null,
            "height": null,
            "justify_content": null,
            "justify_items": null,
            "left": null,
            "margin": null,
            "max_height": null,
            "max_width": null,
            "min_height": null,
            "min_width": null,
            "object_fit": null,
            "object_position": null,
            "order": null,
            "overflow": null,
            "overflow_x": null,
            "overflow_y": null,
            "padding": null,
            "right": null,
            "top": null,
            "visibility": null,
            "width": null
          }
        },
        "2abceb22095d49b6b5b84667097eea87": {
          "model_module": "@jupyter-widgets/base",
          "model_name": "LayoutModel",
          "model_module_version": "1.2.0",
          "state": {
            "_model_module": "@jupyter-widgets/base",
            "_model_module_version": "1.2.0",
            "_model_name": "LayoutModel",
            "_view_count": null,
            "_view_module": "@jupyter-widgets/base",
            "_view_module_version": "1.2.0",
            "_view_name": "LayoutView",
            "align_content": null,
            "align_items": null,
            "align_self": null,
            "border": null,
            "bottom": null,
            "display": null,
            "flex": null,
            "flex_flow": null,
            "grid_area": null,
            "grid_auto_columns": null,
            "grid_auto_flow": null,
            "grid_auto_rows": null,
            "grid_column": null,
            "grid_gap": null,
            "grid_row": null,
            "grid_template_areas": null,
            "grid_template_columns": null,
            "grid_template_rows": null,
            "height": null,
            "justify_content": null,
            "justify_items": null,
            "left": null,
            "margin": null,
            "max_height": null,
            "max_width": null,
            "min_height": null,
            "min_width": null,
            "object_fit": null,
            "object_position": null,
            "order": null,
            "overflow": null,
            "overflow_x": null,
            "overflow_y": null,
            "padding": null,
            "right": null,
            "top": null,
            "visibility": null,
            "width": null
          }
        },
        "30240204e68941729c51a6de8cc90353": {
          "model_module": "@jupyter-widgets/controls",
          "model_name": "DescriptionStyleModel",
          "model_module_version": "1.5.0",
          "state": {
            "_model_module": "@jupyter-widgets/controls",
            "_model_module_version": "1.5.0",
            "_model_name": "DescriptionStyleModel",
            "_view_count": null,
            "_view_module": "@jupyter-widgets/base",
            "_view_module_version": "1.2.0",
            "_view_name": "StyleView",
            "description_width": ""
          }
        },
        "c2b9e318accc4c4383553ca5935c20f2": {
          "model_module": "@jupyter-widgets/base",
          "model_name": "LayoutModel",
          "model_module_version": "1.2.0",
          "state": {
            "_model_module": "@jupyter-widgets/base",
            "_model_module_version": "1.2.0",
            "_model_name": "LayoutModel",
            "_view_count": null,
            "_view_module": "@jupyter-widgets/base",
            "_view_module_version": "1.2.0",
            "_view_name": "LayoutView",
            "align_content": null,
            "align_items": null,
            "align_self": null,
            "border": null,
            "bottom": null,
            "display": null,
            "flex": null,
            "flex_flow": null,
            "grid_area": null,
            "grid_auto_columns": null,
            "grid_auto_flow": null,
            "grid_auto_rows": null,
            "grid_column": null,
            "grid_gap": null,
            "grid_row": null,
            "grid_template_areas": null,
            "grid_template_columns": null,
            "grid_template_rows": null,
            "height": null,
            "justify_content": null,
            "justify_items": null,
            "left": null,
            "margin": null,
            "max_height": null,
            "max_width": null,
            "min_height": null,
            "min_width": null,
            "object_fit": null,
            "object_position": null,
            "order": null,
            "overflow": null,
            "overflow_x": null,
            "overflow_y": null,
            "padding": null,
            "right": null,
            "top": null,
            "visibility": null,
            "width": null
          }
        },
        "bcb99c52f5d142c4a4553d5f0ebb5b7a": {
          "model_module": "@jupyter-widgets/controls",
          "model_name": "ProgressStyleModel",
          "model_module_version": "1.5.0",
          "state": {
            "_model_module": "@jupyter-widgets/controls",
            "_model_module_version": "1.5.0",
            "_model_name": "ProgressStyleModel",
            "_view_count": null,
            "_view_module": "@jupyter-widgets/base",
            "_view_module_version": "1.2.0",
            "_view_name": "StyleView",
            "bar_color": null,
            "description_width": ""
          }
        },
        "359460609d6f41569a68646bc20493f2": {
          "model_module": "@jupyter-widgets/controls",
          "model_name": "VBoxModel",
          "model_module_version": "1.5.0",
          "state": {
            "_dom_classes": [],
            "_model_module": "@jupyter-widgets/controls",
            "_model_module_version": "1.5.0",
            "_model_name": "VBoxModel",
            "_view_count": null,
            "_view_module": "@jupyter-widgets/controls",
            "_view_module_version": "1.5.0",
            "_view_name": "VBoxView",
            "box_style": "",
            "children": [
              "IPY_MODEL_f0fc717f1fc74d31baa1a266dd687785",
              "IPY_MODEL_3c02b4eace604fb780fdcdd7aa910184"
            ],
            "layout": "IPY_MODEL_1e8f19f108b541d2a1100655cf347b7c"
          }
        },
        "f0fc717f1fc74d31baa1a266dd687785": {
          "model_module": "@jupyter-widgets/controls",
          "model_name": "LabelModel",
          "model_module_version": "1.5.0",
          "state": {
            "_dom_classes": [],
            "_model_module": "@jupyter-widgets/controls",
            "_model_module_version": "1.5.0",
            "_model_name": "LabelModel",
            "_view_count": null,
            "_view_module": "@jupyter-widgets/controls",
            "_view_module_version": "1.5.0",
            "_view_name": "LabelView",
            "description": "",
            "description_tooltip": null,
            "layout": "IPY_MODEL_bb67505613a24ee39d3328010aa4a71b",
            "placeholder": "​",
            "style": "IPY_MODEL_0fada45ce3b34857b2873847bec9a949",
            "value": "0.057 MB of 0.057 MB uploaded (0.000 MB deduped)\r"
          }
        },
        "3c02b4eace604fb780fdcdd7aa910184": {
          "model_module": "@jupyter-widgets/controls",
          "model_name": "FloatProgressModel",
          "model_module_version": "1.5.0",
          "state": {
            "_dom_classes": [],
            "_model_module": "@jupyter-widgets/controls",
            "_model_module_version": "1.5.0",
            "_model_name": "FloatProgressModel",
            "_view_count": null,
            "_view_module": "@jupyter-widgets/controls",
            "_view_module_version": "1.5.0",
            "_view_name": "ProgressView",
            "bar_style": "",
            "description": "",
            "description_tooltip": null,
            "layout": "IPY_MODEL_9c7a10c9fe8344e4be16bf3e622adaa0",
            "max": 1,
            "min": 0,
            "orientation": "horizontal",
            "style": "IPY_MODEL_81ff37b3c21341f690f52dfd8c496bd9",
            "value": 1
          }
        },
        "1e8f19f108b541d2a1100655cf347b7c": {
          "model_module": "@jupyter-widgets/base",
          "model_name": "LayoutModel",
          "model_module_version": "1.2.0",
          "state": {
            "_model_module": "@jupyter-widgets/base",
            "_model_module_version": "1.2.0",
            "_model_name": "LayoutModel",
            "_view_count": null,
            "_view_module": "@jupyter-widgets/base",
            "_view_module_version": "1.2.0",
            "_view_name": "LayoutView",
            "align_content": null,
            "align_items": null,
            "align_self": null,
            "border": null,
            "bottom": null,
            "display": null,
            "flex": null,
            "flex_flow": null,
            "grid_area": null,
            "grid_auto_columns": null,
            "grid_auto_flow": null,
            "grid_auto_rows": null,
            "grid_column": null,
            "grid_gap": null,
            "grid_row": null,
            "grid_template_areas": null,
            "grid_template_columns": null,
            "grid_template_rows": null,
            "height": null,
            "justify_content": null,
            "justify_items": null,
            "left": null,
            "margin": null,
            "max_height": null,
            "max_width": null,
            "min_height": null,
            "min_width": null,
            "object_fit": null,
            "object_position": null,
            "order": null,
            "overflow": null,
            "overflow_x": null,
            "overflow_y": null,
            "padding": null,
            "right": null,
            "top": null,
            "visibility": null,
            "width": null
          }
        },
        "bb67505613a24ee39d3328010aa4a71b": {
          "model_module": "@jupyter-widgets/base",
          "model_name": "LayoutModel",
          "model_module_version": "1.2.0",
          "state": {
            "_model_module": "@jupyter-widgets/base",
            "_model_module_version": "1.2.0",
            "_model_name": "LayoutModel",
            "_view_count": null,
            "_view_module": "@jupyter-widgets/base",
            "_view_module_version": "1.2.0",
            "_view_name": "LayoutView",
            "align_content": null,
            "align_items": null,
            "align_self": null,
            "border": null,
            "bottom": null,
            "display": null,
            "flex": null,
            "flex_flow": null,
            "grid_area": null,
            "grid_auto_columns": null,
            "grid_auto_flow": null,
            "grid_auto_rows": null,
            "grid_column": null,
            "grid_gap": null,
            "grid_row": null,
            "grid_template_areas": null,
            "grid_template_columns": null,
            "grid_template_rows": null,
            "height": null,
            "justify_content": null,
            "justify_items": null,
            "left": null,
            "margin": null,
            "max_height": null,
            "max_width": null,
            "min_height": null,
            "min_width": null,
            "object_fit": null,
            "object_position": null,
            "order": null,
            "overflow": null,
            "overflow_x": null,
            "overflow_y": null,
            "padding": null,
            "right": null,
            "top": null,
            "visibility": null,
            "width": null
          }
        },
        "0fada45ce3b34857b2873847bec9a949": {
          "model_module": "@jupyter-widgets/controls",
          "model_name": "DescriptionStyleModel",
          "model_module_version": "1.5.0",
          "state": {
            "_model_module": "@jupyter-widgets/controls",
            "_model_module_version": "1.5.0",
            "_model_name": "DescriptionStyleModel",
            "_view_count": null,
            "_view_module": "@jupyter-widgets/base",
            "_view_module_version": "1.2.0",
            "_view_name": "StyleView",
            "description_width": ""
          }
        },
        "9c7a10c9fe8344e4be16bf3e622adaa0": {
          "model_module": "@jupyter-widgets/base",
          "model_name": "LayoutModel",
          "model_module_version": "1.2.0",
          "state": {
            "_model_module": "@jupyter-widgets/base",
            "_model_module_version": "1.2.0",
            "_model_name": "LayoutModel",
            "_view_count": null,
            "_view_module": "@jupyter-widgets/base",
            "_view_module_version": "1.2.0",
            "_view_name": "LayoutView",
            "align_content": null,
            "align_items": null,
            "align_self": null,
            "border": null,
            "bottom": null,
            "display": null,
            "flex": null,
            "flex_flow": null,
            "grid_area": null,
            "grid_auto_columns": null,
            "grid_auto_flow": null,
            "grid_auto_rows": null,
            "grid_column": null,
            "grid_gap": null,
            "grid_row": null,
            "grid_template_areas": null,
            "grid_template_columns": null,
            "grid_template_rows": null,
            "height": null,
            "justify_content": null,
            "justify_items": null,
            "left": null,
            "margin": null,
            "max_height": null,
            "max_width": null,
            "min_height": null,
            "min_width": null,
            "object_fit": null,
            "object_position": null,
            "order": null,
            "overflow": null,
            "overflow_x": null,
            "overflow_y": null,
            "padding": null,
            "right": null,
            "top": null,
            "visibility": null,
            "width": null
          }
        },
        "81ff37b3c21341f690f52dfd8c496bd9": {
          "model_module": "@jupyter-widgets/controls",
          "model_name": "ProgressStyleModel",
          "model_module_version": "1.5.0",
          "state": {
            "_model_module": "@jupyter-widgets/controls",
            "_model_module_version": "1.5.0",
            "_model_name": "ProgressStyleModel",
            "_view_count": null,
            "_view_module": "@jupyter-widgets/base",
            "_view_module_version": "1.2.0",
            "_view_name": "StyleView",
            "bar_color": null,
            "description_width": ""
          }
        },
        "cb5d6cb845bc4783bafa1895a16957e1": {
          "model_module": "@jupyter-widgets/controls",
          "model_name": "VBoxModel",
          "model_module_version": "1.5.0",
          "state": {
            "_dom_classes": [],
            "_model_module": "@jupyter-widgets/controls",
            "_model_module_version": "1.5.0",
            "_model_name": "VBoxModel",
            "_view_count": null,
            "_view_module": "@jupyter-widgets/controls",
            "_view_module_version": "1.5.0",
            "_view_name": "VBoxView",
            "box_style": "",
            "children": [
              "IPY_MODEL_89eb5ea2e2c74cfd987fd2f0b13df04f",
              "IPY_MODEL_b007f42ca5e245568d64e5694f84671f"
            ],
            "layout": "IPY_MODEL_ec65afd0431e40e8bb26f3867bc2d56c"
          }
        },
        "89eb5ea2e2c74cfd987fd2f0b13df04f": {
          "model_module": "@jupyter-widgets/controls",
          "model_name": "LabelModel",
          "model_module_version": "1.5.0",
          "state": {
            "_dom_classes": [],
            "_model_module": "@jupyter-widgets/controls",
            "_model_module_version": "1.5.0",
            "_model_name": "LabelModel",
            "_view_count": null,
            "_view_module": "@jupyter-widgets/controls",
            "_view_module_version": "1.5.0",
            "_view_name": "LabelView",
            "description": "",
            "description_tooltip": null,
            "layout": "IPY_MODEL_3b64aa5e7cee433eafe64cd56bc68d41",
            "placeholder": "​",
            "style": "IPY_MODEL_8f838fe54464444bbdec56fd4b24a093",
            "value": "0.058 MB of 0.058 MB uploaded (0.000 MB deduped)\r"
          }
        },
        "b007f42ca5e245568d64e5694f84671f": {
          "model_module": "@jupyter-widgets/controls",
          "model_name": "FloatProgressModel",
          "model_module_version": "1.5.0",
          "state": {
            "_dom_classes": [],
            "_model_module": "@jupyter-widgets/controls",
            "_model_module_version": "1.5.0",
            "_model_name": "FloatProgressModel",
            "_view_count": null,
            "_view_module": "@jupyter-widgets/controls",
            "_view_module_version": "1.5.0",
            "_view_name": "ProgressView",
            "bar_style": "",
            "description": "",
            "description_tooltip": null,
            "layout": "IPY_MODEL_abb7ff2b827d4e8fa3857606fef78196",
            "max": 1,
            "min": 0,
            "orientation": "horizontal",
            "style": "IPY_MODEL_75e2935fb1074812bb2715dccfb6ad96",
            "value": 1
          }
        },
        "ec65afd0431e40e8bb26f3867bc2d56c": {
          "model_module": "@jupyter-widgets/base",
          "model_name": "LayoutModel",
          "model_module_version": "1.2.0",
          "state": {
            "_model_module": "@jupyter-widgets/base",
            "_model_module_version": "1.2.0",
            "_model_name": "LayoutModel",
            "_view_count": null,
            "_view_module": "@jupyter-widgets/base",
            "_view_module_version": "1.2.0",
            "_view_name": "LayoutView",
            "align_content": null,
            "align_items": null,
            "align_self": null,
            "border": null,
            "bottom": null,
            "display": null,
            "flex": null,
            "flex_flow": null,
            "grid_area": null,
            "grid_auto_columns": null,
            "grid_auto_flow": null,
            "grid_auto_rows": null,
            "grid_column": null,
            "grid_gap": null,
            "grid_row": null,
            "grid_template_areas": null,
            "grid_template_columns": null,
            "grid_template_rows": null,
            "height": null,
            "justify_content": null,
            "justify_items": null,
            "left": null,
            "margin": null,
            "max_height": null,
            "max_width": null,
            "min_height": null,
            "min_width": null,
            "object_fit": null,
            "object_position": null,
            "order": null,
            "overflow": null,
            "overflow_x": null,
            "overflow_y": null,
            "padding": null,
            "right": null,
            "top": null,
            "visibility": null,
            "width": null
          }
        },
        "3b64aa5e7cee433eafe64cd56bc68d41": {
          "model_module": "@jupyter-widgets/base",
          "model_name": "LayoutModel",
          "model_module_version": "1.2.0",
          "state": {
            "_model_module": "@jupyter-widgets/base",
            "_model_module_version": "1.2.0",
            "_model_name": "LayoutModel",
            "_view_count": null,
            "_view_module": "@jupyter-widgets/base",
            "_view_module_version": "1.2.0",
            "_view_name": "LayoutView",
            "align_content": null,
            "align_items": null,
            "align_self": null,
            "border": null,
            "bottom": null,
            "display": null,
            "flex": null,
            "flex_flow": null,
            "grid_area": null,
            "grid_auto_columns": null,
            "grid_auto_flow": null,
            "grid_auto_rows": null,
            "grid_column": null,
            "grid_gap": null,
            "grid_row": null,
            "grid_template_areas": null,
            "grid_template_columns": null,
            "grid_template_rows": null,
            "height": null,
            "justify_content": null,
            "justify_items": null,
            "left": null,
            "margin": null,
            "max_height": null,
            "max_width": null,
            "min_height": null,
            "min_width": null,
            "object_fit": null,
            "object_position": null,
            "order": null,
            "overflow": null,
            "overflow_x": null,
            "overflow_y": null,
            "padding": null,
            "right": null,
            "top": null,
            "visibility": null,
            "width": null
          }
        },
        "8f838fe54464444bbdec56fd4b24a093": {
          "model_module": "@jupyter-widgets/controls",
          "model_name": "DescriptionStyleModel",
          "model_module_version": "1.5.0",
          "state": {
            "_model_module": "@jupyter-widgets/controls",
            "_model_module_version": "1.5.0",
            "_model_name": "DescriptionStyleModel",
            "_view_count": null,
            "_view_module": "@jupyter-widgets/base",
            "_view_module_version": "1.2.0",
            "_view_name": "StyleView",
            "description_width": ""
          }
        },
        "abb7ff2b827d4e8fa3857606fef78196": {
          "model_module": "@jupyter-widgets/base",
          "model_name": "LayoutModel",
          "model_module_version": "1.2.0",
          "state": {
            "_model_module": "@jupyter-widgets/base",
            "_model_module_version": "1.2.0",
            "_model_name": "LayoutModel",
            "_view_count": null,
            "_view_module": "@jupyter-widgets/base",
            "_view_module_version": "1.2.0",
            "_view_name": "LayoutView",
            "align_content": null,
            "align_items": null,
            "align_self": null,
            "border": null,
            "bottom": null,
            "display": null,
            "flex": null,
            "flex_flow": null,
            "grid_area": null,
            "grid_auto_columns": null,
            "grid_auto_flow": null,
            "grid_auto_rows": null,
            "grid_column": null,
            "grid_gap": null,
            "grid_row": null,
            "grid_template_areas": null,
            "grid_template_columns": null,
            "grid_template_rows": null,
            "height": null,
            "justify_content": null,
            "justify_items": null,
            "left": null,
            "margin": null,
            "max_height": null,
            "max_width": null,
            "min_height": null,
            "min_width": null,
            "object_fit": null,
            "object_position": null,
            "order": null,
            "overflow": null,
            "overflow_x": null,
            "overflow_y": null,
            "padding": null,
            "right": null,
            "top": null,
            "visibility": null,
            "width": null
          }
        },
        "75e2935fb1074812bb2715dccfb6ad96": {
          "model_module": "@jupyter-widgets/controls",
          "model_name": "ProgressStyleModel",
          "model_module_version": "1.5.0",
          "state": {
            "_model_module": "@jupyter-widgets/controls",
            "_model_module_version": "1.5.0",
            "_model_name": "ProgressStyleModel",
            "_view_count": null,
            "_view_module": "@jupyter-widgets/base",
            "_view_module_version": "1.2.0",
            "_view_name": "StyleView",
            "bar_color": null,
            "description_width": ""
          }
        },
        "909c3c95c94e432baefbdd8878b38ee9": {
          "model_module": "@jupyter-widgets/controls",
          "model_name": "VBoxModel",
          "model_module_version": "1.5.0",
          "state": {
            "_dom_classes": [],
            "_model_module": "@jupyter-widgets/controls",
            "_model_module_version": "1.5.0",
            "_model_name": "VBoxModel",
            "_view_count": null,
            "_view_module": "@jupyter-widgets/controls",
            "_view_module_version": "1.5.0",
            "_view_name": "VBoxView",
            "box_style": "",
            "children": [
              "IPY_MODEL_f2f10f359ba942df95c3ef76139bcd8e",
              "IPY_MODEL_4cc1c0fd0b8842f79038bf61ef215a0c"
            ],
            "layout": "IPY_MODEL_2028f9dfb01843cab9956cac55d65bb9"
          }
        },
        "f2f10f359ba942df95c3ef76139bcd8e": {
          "model_module": "@jupyter-widgets/controls",
          "model_name": "LabelModel",
          "model_module_version": "1.5.0",
          "state": {
            "_dom_classes": [],
            "_model_module": "@jupyter-widgets/controls",
            "_model_module_version": "1.5.0",
            "_model_name": "LabelModel",
            "_view_count": null,
            "_view_module": "@jupyter-widgets/controls",
            "_view_module_version": "1.5.0",
            "_view_name": "LabelView",
            "description": "",
            "description_tooltip": null,
            "layout": "IPY_MODEL_3f4a5e22fd0741a09ce15db9691186f5",
            "placeholder": "​",
            "style": "IPY_MODEL_53114c82eac04b90aa238187388a97b4",
            "value": "0.014 MB of 0.014 MB uploaded (0.000 MB deduped)\r"
          }
        },
        "4cc1c0fd0b8842f79038bf61ef215a0c": {
          "model_module": "@jupyter-widgets/controls",
          "model_name": "FloatProgressModel",
          "model_module_version": "1.5.0",
          "state": {
            "_dom_classes": [],
            "_model_module": "@jupyter-widgets/controls",
            "_model_module_version": "1.5.0",
            "_model_name": "FloatProgressModel",
            "_view_count": null,
            "_view_module": "@jupyter-widgets/controls",
            "_view_module_version": "1.5.0",
            "_view_name": "ProgressView",
            "bar_style": "",
            "description": "",
            "description_tooltip": null,
            "layout": "IPY_MODEL_794d13fd39044fe799b7c64d64782ed4",
            "max": 1,
            "min": 0,
            "orientation": "horizontal",
            "style": "IPY_MODEL_cb22741e54cb4a47b368883e9664ca66",
            "value": 1
          }
        },
        "2028f9dfb01843cab9956cac55d65bb9": {
          "model_module": "@jupyter-widgets/base",
          "model_name": "LayoutModel",
          "model_module_version": "1.2.0",
          "state": {
            "_model_module": "@jupyter-widgets/base",
            "_model_module_version": "1.2.0",
            "_model_name": "LayoutModel",
            "_view_count": null,
            "_view_module": "@jupyter-widgets/base",
            "_view_module_version": "1.2.0",
            "_view_name": "LayoutView",
            "align_content": null,
            "align_items": null,
            "align_self": null,
            "border": null,
            "bottom": null,
            "display": null,
            "flex": null,
            "flex_flow": null,
            "grid_area": null,
            "grid_auto_columns": null,
            "grid_auto_flow": null,
            "grid_auto_rows": null,
            "grid_column": null,
            "grid_gap": null,
            "grid_row": null,
            "grid_template_areas": null,
            "grid_template_columns": null,
            "grid_template_rows": null,
            "height": null,
            "justify_content": null,
            "justify_items": null,
            "left": null,
            "margin": null,
            "max_height": null,
            "max_width": null,
            "min_height": null,
            "min_width": null,
            "object_fit": null,
            "object_position": null,
            "order": null,
            "overflow": null,
            "overflow_x": null,
            "overflow_y": null,
            "padding": null,
            "right": null,
            "top": null,
            "visibility": null,
            "width": null
          }
        },
        "3f4a5e22fd0741a09ce15db9691186f5": {
          "model_module": "@jupyter-widgets/base",
          "model_name": "LayoutModel",
          "model_module_version": "1.2.0",
          "state": {
            "_model_module": "@jupyter-widgets/base",
            "_model_module_version": "1.2.0",
            "_model_name": "LayoutModel",
            "_view_count": null,
            "_view_module": "@jupyter-widgets/base",
            "_view_module_version": "1.2.0",
            "_view_name": "LayoutView",
            "align_content": null,
            "align_items": null,
            "align_self": null,
            "border": null,
            "bottom": null,
            "display": null,
            "flex": null,
            "flex_flow": null,
            "grid_area": null,
            "grid_auto_columns": null,
            "grid_auto_flow": null,
            "grid_auto_rows": null,
            "grid_column": null,
            "grid_gap": null,
            "grid_row": null,
            "grid_template_areas": null,
            "grid_template_columns": null,
            "grid_template_rows": null,
            "height": null,
            "justify_content": null,
            "justify_items": null,
            "left": null,
            "margin": null,
            "max_height": null,
            "max_width": null,
            "min_height": null,
            "min_width": null,
            "object_fit": null,
            "object_position": null,
            "order": null,
            "overflow": null,
            "overflow_x": null,
            "overflow_y": null,
            "padding": null,
            "right": null,
            "top": null,
            "visibility": null,
            "width": null
          }
        },
        "53114c82eac04b90aa238187388a97b4": {
          "model_module": "@jupyter-widgets/controls",
          "model_name": "DescriptionStyleModel",
          "model_module_version": "1.5.0",
          "state": {
            "_model_module": "@jupyter-widgets/controls",
            "_model_module_version": "1.5.0",
            "_model_name": "DescriptionStyleModel",
            "_view_count": null,
            "_view_module": "@jupyter-widgets/base",
            "_view_module_version": "1.2.0",
            "_view_name": "StyleView",
            "description_width": ""
          }
        },
        "794d13fd39044fe799b7c64d64782ed4": {
          "model_module": "@jupyter-widgets/base",
          "model_name": "LayoutModel",
          "model_module_version": "1.2.0",
          "state": {
            "_model_module": "@jupyter-widgets/base",
            "_model_module_version": "1.2.0",
            "_model_name": "LayoutModel",
            "_view_count": null,
            "_view_module": "@jupyter-widgets/base",
            "_view_module_version": "1.2.0",
            "_view_name": "LayoutView",
            "align_content": null,
            "align_items": null,
            "align_self": null,
            "border": null,
            "bottom": null,
            "display": null,
            "flex": null,
            "flex_flow": null,
            "grid_area": null,
            "grid_auto_columns": null,
            "grid_auto_flow": null,
            "grid_auto_rows": null,
            "grid_column": null,
            "grid_gap": null,
            "grid_row": null,
            "grid_template_areas": null,
            "grid_template_columns": null,
            "grid_template_rows": null,
            "height": null,
            "justify_content": null,
            "justify_items": null,
            "left": null,
            "margin": null,
            "max_height": null,
            "max_width": null,
            "min_height": null,
            "min_width": null,
            "object_fit": null,
            "object_position": null,
            "order": null,
            "overflow": null,
            "overflow_x": null,
            "overflow_y": null,
            "padding": null,
            "right": null,
            "top": null,
            "visibility": null,
            "width": null
          }
        },
        "cb22741e54cb4a47b368883e9664ca66": {
          "model_module": "@jupyter-widgets/controls",
          "model_name": "ProgressStyleModel",
          "model_module_version": "1.5.0",
          "state": {
            "_model_module": "@jupyter-widgets/controls",
            "_model_module_version": "1.5.0",
            "_model_name": "ProgressStyleModel",
            "_view_count": null,
            "_view_module": "@jupyter-widgets/base",
            "_view_module_version": "1.2.0",
            "_view_name": "StyleView",
            "bar_color": null,
            "description_width": ""
          }
        },
        "0162e53146fb476ab7676016cc6c54a8": {
          "model_module": "@jupyter-widgets/controls",
          "model_name": "VBoxModel",
          "model_module_version": "1.5.0",
          "state": {
            "_dom_classes": [],
            "_model_module": "@jupyter-widgets/controls",
            "_model_module_version": "1.5.0",
            "_model_name": "VBoxModel",
            "_view_count": null,
            "_view_module": "@jupyter-widgets/controls",
            "_view_module_version": "1.5.0",
            "_view_name": "VBoxView",
            "box_style": "",
            "children": [
              "IPY_MODEL_64ee06579897438392f921571c4a48c7",
              "IPY_MODEL_1ad576ed17c448d9af97fd5e3bdf0efa"
            ],
            "layout": "IPY_MODEL_fa87c9cd12034c0799bbb29ef383ddc5"
          }
        },
        "64ee06579897438392f921571c4a48c7": {
          "model_module": "@jupyter-widgets/controls",
          "model_name": "LabelModel",
          "model_module_version": "1.5.0",
          "state": {
            "_dom_classes": [],
            "_model_module": "@jupyter-widgets/controls",
            "_model_module_version": "1.5.0",
            "_model_name": "LabelModel",
            "_view_count": null,
            "_view_module": "@jupyter-widgets/controls",
            "_view_module_version": "1.5.0",
            "_view_name": "LabelView",
            "description": "",
            "description_tooltip": null,
            "layout": "IPY_MODEL_908dd2d8481f456685638015fea5aff8",
            "placeholder": "​",
            "style": "IPY_MODEL_4227470b4eb0433899620ea9f18fe408",
            "value": "0.233 MB of 0.233 MB uploaded (0.000 MB deduped)\r"
          }
        },
        "1ad576ed17c448d9af97fd5e3bdf0efa": {
          "model_module": "@jupyter-widgets/controls",
          "model_name": "FloatProgressModel",
          "model_module_version": "1.5.0",
          "state": {
            "_dom_classes": [],
            "_model_module": "@jupyter-widgets/controls",
            "_model_module_version": "1.5.0",
            "_model_name": "FloatProgressModel",
            "_view_count": null,
            "_view_module": "@jupyter-widgets/controls",
            "_view_module_version": "1.5.0",
            "_view_name": "ProgressView",
            "bar_style": "",
            "description": "",
            "description_tooltip": null,
            "layout": "IPY_MODEL_6e787a43973f403dbea306b9dd548c4f",
            "max": 1,
            "min": 0,
            "orientation": "horizontal",
            "style": "IPY_MODEL_27bc0c6e7f534edf918fb5807b710594",
            "value": 1
          }
        },
        "fa87c9cd12034c0799bbb29ef383ddc5": {
          "model_module": "@jupyter-widgets/base",
          "model_name": "LayoutModel",
          "model_module_version": "1.2.0",
          "state": {
            "_model_module": "@jupyter-widgets/base",
            "_model_module_version": "1.2.0",
            "_model_name": "LayoutModel",
            "_view_count": null,
            "_view_module": "@jupyter-widgets/base",
            "_view_module_version": "1.2.0",
            "_view_name": "LayoutView",
            "align_content": null,
            "align_items": null,
            "align_self": null,
            "border": null,
            "bottom": null,
            "display": null,
            "flex": null,
            "flex_flow": null,
            "grid_area": null,
            "grid_auto_columns": null,
            "grid_auto_flow": null,
            "grid_auto_rows": null,
            "grid_column": null,
            "grid_gap": null,
            "grid_row": null,
            "grid_template_areas": null,
            "grid_template_columns": null,
            "grid_template_rows": null,
            "height": null,
            "justify_content": null,
            "justify_items": null,
            "left": null,
            "margin": null,
            "max_height": null,
            "max_width": null,
            "min_height": null,
            "min_width": null,
            "object_fit": null,
            "object_position": null,
            "order": null,
            "overflow": null,
            "overflow_x": null,
            "overflow_y": null,
            "padding": null,
            "right": null,
            "top": null,
            "visibility": null,
            "width": null
          }
        },
        "908dd2d8481f456685638015fea5aff8": {
          "model_module": "@jupyter-widgets/base",
          "model_name": "LayoutModel",
          "model_module_version": "1.2.0",
          "state": {
            "_model_module": "@jupyter-widgets/base",
            "_model_module_version": "1.2.0",
            "_model_name": "LayoutModel",
            "_view_count": null,
            "_view_module": "@jupyter-widgets/base",
            "_view_module_version": "1.2.0",
            "_view_name": "LayoutView",
            "align_content": null,
            "align_items": null,
            "align_self": null,
            "border": null,
            "bottom": null,
            "display": null,
            "flex": null,
            "flex_flow": null,
            "grid_area": null,
            "grid_auto_columns": null,
            "grid_auto_flow": null,
            "grid_auto_rows": null,
            "grid_column": null,
            "grid_gap": null,
            "grid_row": null,
            "grid_template_areas": null,
            "grid_template_columns": null,
            "grid_template_rows": null,
            "height": null,
            "justify_content": null,
            "justify_items": null,
            "left": null,
            "margin": null,
            "max_height": null,
            "max_width": null,
            "min_height": null,
            "min_width": null,
            "object_fit": null,
            "object_position": null,
            "order": null,
            "overflow": null,
            "overflow_x": null,
            "overflow_y": null,
            "padding": null,
            "right": null,
            "top": null,
            "visibility": null,
            "width": null
          }
        },
        "4227470b4eb0433899620ea9f18fe408": {
          "model_module": "@jupyter-widgets/controls",
          "model_name": "DescriptionStyleModel",
          "model_module_version": "1.5.0",
          "state": {
            "_model_module": "@jupyter-widgets/controls",
            "_model_module_version": "1.5.0",
            "_model_name": "DescriptionStyleModel",
            "_view_count": null,
            "_view_module": "@jupyter-widgets/base",
            "_view_module_version": "1.2.0",
            "_view_name": "StyleView",
            "description_width": ""
          }
        },
        "6e787a43973f403dbea306b9dd548c4f": {
          "model_module": "@jupyter-widgets/base",
          "model_name": "LayoutModel",
          "model_module_version": "1.2.0",
          "state": {
            "_model_module": "@jupyter-widgets/base",
            "_model_module_version": "1.2.0",
            "_model_name": "LayoutModel",
            "_view_count": null,
            "_view_module": "@jupyter-widgets/base",
            "_view_module_version": "1.2.0",
            "_view_name": "LayoutView",
            "align_content": null,
            "align_items": null,
            "align_self": null,
            "border": null,
            "bottom": null,
            "display": null,
            "flex": null,
            "flex_flow": null,
            "grid_area": null,
            "grid_auto_columns": null,
            "grid_auto_flow": null,
            "grid_auto_rows": null,
            "grid_column": null,
            "grid_gap": null,
            "grid_row": null,
            "grid_template_areas": null,
            "grid_template_columns": null,
            "grid_template_rows": null,
            "height": null,
            "justify_content": null,
            "justify_items": null,
            "left": null,
            "margin": null,
            "max_height": null,
            "max_width": null,
            "min_height": null,
            "min_width": null,
            "object_fit": null,
            "object_position": null,
            "order": null,
            "overflow": null,
            "overflow_x": null,
            "overflow_y": null,
            "padding": null,
            "right": null,
            "top": null,
            "visibility": null,
            "width": null
          }
        },
        "27bc0c6e7f534edf918fb5807b710594": {
          "model_module": "@jupyter-widgets/controls",
          "model_name": "ProgressStyleModel",
          "model_module_version": "1.5.0",
          "state": {
            "_model_module": "@jupyter-widgets/controls",
            "_model_module_version": "1.5.0",
            "_model_name": "ProgressStyleModel",
            "_view_count": null,
            "_view_module": "@jupyter-widgets/base",
            "_view_module_version": "1.2.0",
            "_view_name": "StyleView",
            "bar_color": null,
            "description_width": ""
          }
        }
      }
    },
    "gpuClass": "standard",
    "accelerator": "GPU"
  },
  "cells": [
    {
      "cell_type": "markdown",
      "source": [
        "#Data preprocessing "
      ],
      "metadata": {
        "id": "30IVKbDrHtU5"
      }
    },
    {
      "cell_type": "code",
      "execution_count": null,
      "metadata": {
        "id": "uaBpHOGDg4_f"
      },
      "outputs": [],
      "source": [
        "#installing py-torch lightning and wandb\n",
        "!pip install pytorch-lightning\n",
        "!pip install wandb -qU"
      ]
    },
    {
      "cell_type": "code",
      "source": [
        "#importing required libraries \n",
        "import pytorch_lightning as pl\n",
        "import os\n",
        "import tarfile\n",
        "import torch.nn as nn\n",
        "import numpy as np\n",
        "from torch.utils.data import DataLoader\n",
        "from torchvision.transforms import ToTensor\n",
        "import torch.utils.data as data_utils\n",
        "from torchvision import datasets, transforms\n",
        "import torch\n",
        "import torchvision\n",
        "import torch.nn.functional as F"
      ],
      "metadata": {
        "id": "TUXHlacih-MI"
      },
      "execution_count": null,
      "outputs": []
    },
    {
      "cell_type": "markdown",
      "source": [
        "#Data loading and transformation"
      ],
      "metadata": {
        "id": "0G_aGVyOHwWt"
      }
    },
    {
      "cell_type": "code",
      "source": [
        "convert = transforms.Compose(\n",
        "    [transforms.ToTensor(),transforms.Resize((32,32)),\n",
        "     transforms.Normalize((0.5, 0.5, 0.5), (0.5, 0.5, 0.5))])\n",
        "\n",
        "indices = torch.arange(10000)\n",
        "\n",
        "trainset = torchvision.datasets.Food101(root=\"./data1\", split='train',\n",
        "                                        download=True, transform=convert)\n",
        "\n",
        "trainset = data_utils.Subset(trainset, indices)\n",
        "trainloader = torch.utils.data.DataLoader(trainset, batch_size=32,\n",
        "                                          shuffle=True)\n",
        "\n",
        "test = torchvision.datasets.Food101(root=\"./data1\", split='test',\n",
        "                                        download=True, transform=convert)\n",
        "\n",
        "indi = torch.arange(1000)\n",
        "test = data_utils.Subset(test, indi)\n",
        "testloader = torch.utils.data.DataLoader(test, batch_size=32,shuffle=True)"
      ],
      "metadata": {
        "id": "ql04D1UBvNYL"
      },
      "execution_count": null,
      "outputs": []
    },
    {
      "cell_type": "code",
      "source": [
        "for i,j in testloader:\n",
        "  print(i.size())\n",
        "  break"
      ],
      "metadata": {
        "colab": {
          "base_uri": "https://localhost:8080/"
        },
        "id": "bqY9pWlDf89S",
        "outputId": "d04aced6-17d6-497c-e13e-dafa7fc00459"
      },
      "execution_count": null,
      "outputs": [
        {
          "output_type": "stream",
          "name": "stdout",
          "text": [
            "torch.Size([32, 3, 32, 32])\n"
          ]
        }
      ]
    },
    {
      "cell_type": "code",
      "source": [
        "import os\n",
        "data_dir =r'/content/data1/food-101/images/'\n",
        "classes = os.listdir(data_dir)\n",
        "print(len(classes))"
      ],
      "metadata": {
        "colab": {
          "base_uri": "https://localhost:8080/"
        },
        "id": "N8r-3ABDvPbe",
        "outputId": "f2241762-a79f-4dd9-bc16-8844d1105f84"
      },
      "execution_count": null,
      "outputs": [
        {
          "output_type": "stream",
          "name": "stdout",
          "text": [
            "101\n"
          ]
        }
      ]
    },
    {
      "cell_type": "code",
      "source": [
        "import wandb\n",
        "wandb.login()"
      ],
      "metadata": {
        "colab": {
          "base_uri": "https://localhost:8080/"
        },
        "id": "t9Q-bfRyzUo5",
        "outputId": "39b415bd-c7f7-467e-c02a-46c1293ab6f2"
      },
      "execution_count": null,
      "outputs": [
        {
          "output_type": "stream",
          "name": "stderr",
          "text": [
            "\u001b[34m\u001b[1mwandb\u001b[0m: Currently logged in as: \u001b[33mte11st\u001b[0m. Use \u001b[1m`wandb login --relogin`\u001b[0m to force relogin\n"
          ]
        },
        {
          "output_type": "execute_result",
          "data": {
            "text/plain": [
              "True"
            ]
          },
          "metadata": {},
          "execution_count": 8
        }
      ]
    },
    {
      "cell_type": "markdown",
      "source": [
        "#A Basic CNN"
      ],
      "metadata": {
        "id": "lPmdEWpCKGtb"
      }
    },
    {
      "cell_type": "code",
      "source": [
        "class CNN_basic(pl.LightningModule):\n",
        "    def __init__(self):\n",
        "        super(CNN_basic, self).__init__()\n",
        "        self.l1 = nn.Linear(3*32*32, 101)\n",
        "    def forward(self, inp):\n",
        "        return torch.relu(self.l1(inp.view(inp.size(0), -1)))"
      ],
      "metadata": {
        "id": "5nlV4VE8Eaox"
      },
      "execution_count": null,
      "outputs": []
    },
    {
      "cell_type": "markdown",
      "source": [
        "#Training function"
      ],
      "metadata": {
        "id": "qjfiUpyRH3Gd"
      }
    },
    {
      "cell_type": "code",
      "source": [
        "def train(model, device, train_loader, optimizer, criterion, epoch, steps_per_epoch=20):\n",
        "  model.train()\n",
        "  training_loss = 0\n",
        "  training_total = 0\n",
        "  training_correct = 0\n",
        "  for batch_idx, (data, target) in enumerate(train_loader, start=0):\n",
        "    data, target = data.to(device), target.to(device)\n",
        "    optimizer.zero_grad()\n",
        "    output = model(data)\n",
        "    loss = criterion(output, target)\n",
        "    training_loss += loss.item()\n",
        "    scores, predictions = torch.max(output.data, 1)\n",
        "    training_total += target.size(0)\n",
        "    training_correct += int(sum(predictions == target))\n",
        "    optimizer.zero_grad()\n",
        "    loss.backward()\n",
        "    optimizer.step()\n",
        "  acc = round((training_correct / training_total) * 100, 2)\n",
        "  print(\"Epoch [{}], Loss: {}, Accuracy: {}\".format(epoch, training_loss/training_total, acc), end=\"\")\n",
        "  wandb.log({\"Train Loss\": training_loss/training_total, \"Train Accuracy\": acc, \"Epoch\": epoch})"
      ],
      "metadata": {
        "id": "aR95brrHyLR0"
      },
      "execution_count": null,
      "outputs": []
    },
    {
      "cell_type": "markdown",
      "source": [
        "#Testing function"
      ],
      "metadata": {
        "id": "rhxQxZ5dH5qn"
      }
    },
    {
      "cell_type": "code",
      "source": [
        "def test(model, device, test_loader, criterion, classes):\n",
        "  model.eval()\n",
        "  testing_loss = 0\n",
        "  testing_total = 0\n",
        "  testing_correct = 0\n",
        "  sample_images = []\n",
        "  with torch.no_grad():\n",
        "      for data, target in test_loader:\n",
        "          data, target = data.to(device), target.to(device)\n",
        "          output = model(data)\n",
        "          testing_loss += criterion(output, target).item()\n",
        "          scores, predictions = torch.max(output.data, 1)\n",
        "          testing_total += target.size(0)\n",
        "          testing_correct += int(sum(predictions == target))\n",
        "  acc = round((testing_correct / testing_total) * 100, 2)\n",
        "  print(\" Test_loss: {}, Test_accuracy: {}\".format(testing_loss/testing_total, acc))\n",
        "  wandb.log({\"Test Loss\": testing_loss/testing_total, \"Test Accuracy\": acc})"
      ],
      "metadata": {
        "id": "k935ilriyLPp"
      },
      "execution_count": null,
      "outputs": []
    },
    {
      "cell_type": "code",
      "source": [
        "device = torch.device(\"cuda:0\" if torch.cuda.is_available() else \"cpu\")\n",
        "print(device)"
      ],
      "metadata": {
        "colab": {
          "base_uri": "https://localhost:8080/"
        },
        "id": "l8Xu1iIaykGY",
        "outputId": "637574e3-e5a8-4cb9-c3ae-3d5886908442"
      },
      "execution_count": null,
      "outputs": [
        {
          "output_type": "stream",
          "name": "stdout",
          "text": [
            "cuda:0\n"
          ]
        }
      ]
    },
    {
      "cell_type": "markdown",
      "source": [
        "#Running CNN model"
      ],
      "metadata": {
        "id": "zRJQWYn1H885"
      }
    },
    {
      "cell_type": "code",
      "source": [
        "network = CNN_basic().to(device)\n",
        "print(network)\n",
        "\n",
        "criterion = nn.CrossEntropyLoss()\n",
        "optimizer = torch.optim.Adam(network.parameters())"
      ],
      "metadata": {
        "colab": {
          "base_uri": "https://localhost:8080/"
        },
        "id": "bg1b9bY5yLMc",
        "outputId": "f810ef82-086b-4239-dc12-dd4586c257d4"
      },
      "execution_count": null,
      "outputs": [
        {
          "output_type": "stream",
          "name": "stdout",
          "text": [
            "CNN_basic(\n",
            "  (l1): Linear(in_features=3072, out_features=101, bias=True)\n",
            ")\n"
          ]
        }
      ]
    },
    {
      "cell_type": "code",
      "source": [
        "wandb.init(project=\"basic_cnn\", anonymous=\"must\")\n",
        "wandb.watch(network, log=\"all\")\n",
        "for epoch in range(50):  \n",
        "  train(network, device, trainloader, optimizer, criterion, epoch)\n",
        "  test(network, device, testloader, criterion, classes)\n",
        "\n",
        "print(\"Finished Training\")\n",
        "wandb.finish()"
      ],
      "metadata": {
        "colab": {
          "base_uri": "https://localhost:8080/",
          "height": 1000,
          "referenced_widgets": [
            "705f9f4f4d434419a47cfec4e4e3254c",
            "c84a5db134a843069e78c88589bf57ad",
            "2467ad52f9604be8a0770cb56e3477d6",
            "5d741627af7147048e835dc0663a649b",
            "2abceb22095d49b6b5b84667097eea87",
            "30240204e68941729c51a6de8cc90353",
            "c2b9e318accc4c4383553ca5935c20f2",
            "bcb99c52f5d142c4a4553d5f0ebb5b7a"
          ]
        },
        "id": "usocdt-pyLKG",
        "outputId": "d7fd8268-f154-4a14-fab5-3379e0305eae"
      },
      "execution_count": null,
      "outputs": [
        {
          "output_type": "display_data",
          "data": {
            "text/plain": [
              "<IPython.core.display.HTML object>"
            ],
            "text/html": [
              "Tracking run with wandb version 0.13.1"
            ]
          },
          "metadata": {}
        },
        {
          "output_type": "display_data",
          "data": {
            "text/plain": [
              "<IPython.core.display.HTML object>"
            ],
            "text/html": [
              "Run data is saved locally in <code>/content/wandb/run-20220811_094328-qib90ww4</code>"
            ]
          },
          "metadata": {}
        },
        {
          "output_type": "display_data",
          "data": {
            "text/plain": [
              "<IPython.core.display.HTML object>"
            ],
            "text/html": [
              "Syncing run <strong><a href=\"https://wandb.ai/te11st/basic_cnn/runs/qib90ww4\" target=\"_blank\">wandering-wind-1</a></strong> to <a href=\"https://wandb.ai/te11st/basic_cnn\" target=\"_blank\">Weights & Biases</a> (<a href=\"https://wandb.me/run\" target=\"_blank\">docs</a>)<br/>"
            ]
          },
          "metadata": {}
        },
        {
          "output_type": "stream",
          "name": "stdout",
          "text": [
            "Epoch [0], Loss: 0.09965128967761994, Accuracy: 15.15 Test_loss: 0.0854694058895111, Test_accuracy: 18.6\n",
            "Epoch [1], Loss: 0.0799486581325531, Accuracy: 21.61 Test_loss: 0.07915878570079804, Test_accuracy: 23.4\n",
            "Epoch [2], Loss: 0.07475994964838029, Accuracy: 25.87 Test_loss: 0.0851766746044159, Test_accuracy: 21.1\n",
            "Epoch [3], Loss: 0.07143900337219239, Accuracy: 28.59 Test_loss: 0.0879007203578949, Test_accuracy: 15.8\n",
            "Epoch [4], Loss: 0.0689386183142662, Accuracy: 30.99 Test_loss: 0.08575747895240783, Test_accuracy: 15.4\n",
            "Epoch [5], Loss: 0.06690239136219024, Accuracy: 32.3 Test_loss: 0.0812409610748291, Test_accuracy: 22.4\n",
            "Epoch [6], Loss: 0.06497328740358353, Accuracy: 34.82 Test_loss: 0.08595970559120178, Test_accuracy: 17.1\n",
            "Epoch [7], Loss: 0.06347404396533966, Accuracy: 35.21 Test_loss: 0.08503930377960205, Test_accuracy: 19.3\n",
            "Epoch [8], Loss: 0.062007504141330716, Accuracy: 37.59 Test_loss: 0.0877744460105896, Test_accuracy: 18.0\n",
            "Epoch [9], Loss: 0.060858500933647156, Accuracy: 38.51 Test_loss: 0.09118652868270874, Test_accuracy: 18.1\n",
            "Epoch [10], Loss: 0.05991676949262619, Accuracy: 39.84 Test_loss: 0.09048240280151368, Test_accuracy: 19.1\n",
            "Epoch [11], Loss: 0.05876134513616562, Accuracy: 40.93 Test_loss: 0.08641184735298156, Test_accuracy: 24.7\n",
            "Epoch [12], Loss: 0.05803268344402313, Accuracy: 41.16 Test_loss: 0.08026914775371552, Test_accuracy: 23.3\n",
            "Epoch [13], Loss: 0.05656930525302887, Accuracy: 42.43 Test_loss: 0.08751634550094604, Test_accuracy: 23.1\n",
            "Epoch [14], Loss: 0.05571883198022842, Accuracy: 43.2 Test_loss: 0.08442066752910614, Test_accuracy: 20.8\n",
            "Epoch [15], Loss: 0.055332010960578916, Accuracy: 44.3 Test_loss: 0.08539019131660461, Test_accuracy: 23.0\n",
            "Epoch [16], Loss: 0.05404545543193817, Accuracy: 45.49 Test_loss: 0.09493259572982789, Test_accuracy: 16.6\n",
            "Epoch [17], Loss: 0.05368380305767059, Accuracy: 45.55 Test_loss: 0.09693816232681274, Test_accuracy: 18.7\n",
            "Epoch [18], Loss: 0.053108169758319855, Accuracy: 45.29 Test_loss: 0.09713277196884156, Test_accuracy: 17.4\n",
            "Epoch [19], Loss: 0.05247577269673347, Accuracy: 46.11 Test_loss: 0.09503294968605042, Test_accuracy: 20.3\n",
            "Epoch [20], Loss: 0.05194681581258774, Accuracy: 47.27 Test_loss: 0.09487588357925415, Test_accuracy: 17.5\n",
            "Epoch [21], Loss: 0.051332114315032956, Accuracy: 47.34 Test_loss: 0.0952175579071045, Test_accuracy: 18.3\n",
            "Epoch [22], Loss: 0.05069671788215637, Accuracy: 48.35 Test_loss: 0.0958016746044159, Test_accuracy: 18.9\n",
            "Epoch [23], Loss: 0.05024308247566223, Accuracy: 49.07 Test_loss: 0.09344127297401428, Test_accuracy: 22.3\n",
            "Epoch [24], Loss: 0.05013450226783753, Accuracy: 48.59 Test_loss: 0.10017971229553223, Test_accuracy: 18.1\n",
            "Epoch [25], Loss: 0.04965203496217728, Accuracy: 49.14 Test_loss: 0.10225148940086365, Test_accuracy: 18.4\n",
            "Epoch [26], Loss: 0.04943023416996002, Accuracy: 49.45 Test_loss: 0.09534929347038269, Test_accuracy: 19.7\n",
            "Epoch [27], Loss: 0.04819618002176285, Accuracy: 51.13 Test_loss: 0.10418899130821228, Test_accuracy: 18.6\n",
            "Epoch [28], Loss: 0.04819775718450546, Accuracy: 50.78 Test_loss: 0.10106845092773438, Test_accuracy: 17.8\n",
            "Epoch [29], Loss: 0.04800390409827232, Accuracy: 51.07 Test_loss: 0.10122700214385986, Test_accuracy: 17.2\n",
            "Epoch [30], Loss: 0.04710834370851517, Accuracy: 52.05 Test_loss: 0.1077391746044159, Test_accuracy: 14.1\n",
            "Epoch [31], Loss: 0.04704477865695953, Accuracy: 52.17 Test_loss: 0.10438635969161987, Test_accuracy: 16.3\n",
            "Epoch [32], Loss: 0.046664119523763654, Accuracy: 52.48 Test_loss: 0.10269882130622864, Test_accuracy: 19.3\n",
            "Epoch [33], Loss: 0.046048767310380934, Accuracy: 52.97 Test_loss: 0.10485045027732849, Test_accuracy: 19.5\n",
            "Epoch [34], Loss: 0.04615637664794922, Accuracy: 52.78 Test_loss: 0.11183931994438172, Test_accuracy: 16.3\n",
            "Epoch [35], Loss: 0.045492630207538604, Accuracy: 54.02 Test_loss: 0.1012529981136322, Test_accuracy: 20.0\n",
            "Epoch [36], Loss: 0.04535243297815323, Accuracy: 54.4 Test_loss: 0.10981511640548706, Test_accuracy: 15.7\n",
            "Epoch [37], Loss: 0.045415477472543715, Accuracy: 53.8 Test_loss: 0.10597327208518982, Test_accuracy: 17.6\n",
            "Epoch [38], Loss: 0.04446066927313805, Accuracy: 54.26 Test_loss: 0.11293861985206605, Test_accuracy: 13.8\n",
            "Epoch [39], Loss: 0.04428307103514671, Accuracy: 54.97 Test_loss: 0.10032588911056518, Test_accuracy: 20.8\n",
            "Epoch [40], Loss: 0.04386252375245094, Accuracy: 55.62 Test_loss: 0.10723147630691528, Test_accuracy: 17.0\n",
            "Epoch [41], Loss: 0.04350781881809235, Accuracy: 55.74 Test_loss: 0.10743122220039368, Test_accuracy: 17.0\n",
            "Epoch [42], Loss: 0.043602681183815, Accuracy: 55.28 Test_loss: 0.10803814959526062, Test_accuracy: 18.1\n",
            "Epoch [43], Loss: 0.04331713649630547, Accuracy: 56.14 Test_loss: 0.10774056434631347, Test_accuracy: 17.4\n",
            "Epoch [44], Loss: 0.04330895893573761, Accuracy: 56.18 Test_loss: 0.10709449052810668, Test_accuracy: 18.1\n",
            "Epoch [45], Loss: 0.04244539622664452, Accuracy: 56.57 Test_loss: 0.1136512508392334, Test_accuracy: 17.1\n",
            "Epoch [46], Loss: 0.0421542684674263, Accuracy: 56.56 Test_loss: 0.11693525815010071, Test_accuracy: 13.7\n",
            "Epoch [47], Loss: 0.04189879193305969, Accuracy: 57.78 Test_loss: 0.1263305139541626, Test_accuracy: 12.6\n",
            "Epoch [48], Loss: 0.041772894912958144, Accuracy: 57.85 Test_loss: 0.12065498757362365, Test_accuracy: 15.3\n",
            "Epoch [49], Loss: 0.04121001689434051, Accuracy: 57.78 Test_loss: 0.12122004580497742, Test_accuracy: 14.2\n",
            "Finished Training\n"
          ]
        },
        {
          "output_type": "display_data",
          "data": {
            "text/plain": [
              "<IPython.core.display.HTML object>"
            ],
            "text/html": [
              "Waiting for W&B process to finish... <strong style=\"color:green\">(success).</strong>"
            ]
          },
          "metadata": {}
        },
        {
          "output_type": "display_data",
          "data": {
            "text/plain": [
              "VBox(children=(Label(value='0.001 MB of 0.001 MB uploaded (0.000 MB deduped)\\r'), FloatProgress(value=1.0, max…"
            ],
            "application/vnd.jupyter.widget-view+json": {
              "version_major": 2,
              "version_minor": 0,
              "model_id": "705f9f4f4d434419a47cfec4e4e3254c"
            }
          },
          "metadata": {}
        },
        {
          "output_type": "display_data",
          "data": {
            "text/plain": [
              "<IPython.core.display.HTML object>"
            ],
            "text/html": [
              "<style>\n",
              "    table.wandb td:nth-child(1) { padding: 0 10px; text-align: left ; width: auto;} td:nth-child(2) {text-align: left ; width: 100%}\n",
              "    .wandb-row { display: flex; flex-direction: row; flex-wrap: wrap; justify-content: flex-start; width: 100% }\n",
              "    .wandb-col { display: flex; flex-direction: column; flex-basis: 100%; flex: 1; padding: 10px; }\n",
              "    </style>\n",
              "<div class=\"wandb-row\"><div class=\"wandb-col\"><h3>Run history:</h3><br/><table class=\"wandb\"><tr><td>Epoch</td><td>▁▁▁▁▂▂▂▂▂▃▃▃▃▃▃▄▄▄▄▄▅▅▅▅▅▅▆▆▆▆▆▆▇▇▇▇▇███</td></tr><tr><td>Test Accuracy</td><td>▄▇▆▃▇▄▅▄▅█▇▇▇▃▅▄▄▄▅▇▄▅▄▄▂▃▅▅▅▃▄▂▄▄▄▄▄▂▁▂</td></tr><tr><td>Test Loss</td><td>▂▁▂▂▁▂▂▂▃▂▁▂▂▃▄▄▃▃▃▃▄▃▅▄▅▅▄▅▄▆▅▆▅▅▅▅▆▇█▇</td></tr><tr><td>Train Accuracy</td><td>▁▂▃▃▄▄▄▅▅▅▅▅▆▆▆▆▆▆▆▇▇▇▇▇▇▇▇▇▇▇▇▇████████</td></tr><tr><td>Train Loss</td><td>█▆▅▅▄▄▄▃▃▃▃▃▃▃▂▂▂▂▂▂▂▂▂▂▂▂▂▂▂▁▂▁▁▁▁▁▁▁▁▁</td></tr></table><br/></div><div class=\"wandb-col\"><h3>Run summary:</h3><br/><table class=\"wandb\"><tr><td>Epoch</td><td>49</td></tr><tr><td>Test Accuracy</td><td>14.2</td></tr><tr><td>Test Loss</td><td>0.12122</td></tr><tr><td>Train Accuracy</td><td>57.78</td></tr><tr><td>Train Loss</td><td>0.04121</td></tr></table><br/></div></div>"
            ]
          },
          "metadata": {}
        },
        {
          "output_type": "display_data",
          "data": {
            "text/plain": [
              "<IPython.core.display.HTML object>"
            ],
            "text/html": [
              "Synced <strong style=\"color:#cdcd00\">wandering-wind-1</strong>: <a href=\"https://wandb.ai/te11st/basic_cnn/runs/qib90ww4\" target=\"_blank\">https://wandb.ai/te11st/basic_cnn/runs/qib90ww4</a><br/>Synced 5 W&B file(s), 0 media file(s), 0 artifact file(s) and 0 other file(s)"
            ]
          },
          "metadata": {}
        },
        {
          "output_type": "display_data",
          "data": {
            "text/plain": [
              "<IPython.core.display.HTML object>"
            ],
            "text/html": [
              "Find logs at: <code>./wandb/run-20220811_094328-qib90ww4/logs</code>"
            ]
          },
          "metadata": {}
        }
      ]
    },
    {
      "cell_type": "markdown",
      "source": [
        "#All Convolutional Net"
      ],
      "metadata": {
        "id": "eby5Bv-iKQNX"
      }
    },
    {
      "cell_type": "code",
      "source": [
        "# Define a convolution neural network\n",
        "class Convolutinal_net(pl.LightningModule):\n",
        "    def __init__(self):\n",
        "        super(Convolutinal_net, self).__init__()\n",
        "        self.convolutional1 = nn.Conv2d(in_channels=3, out_channels=12, kernel_size=5, stride=1, padding=1)\n",
        "        self.batch_norm1 = nn.BatchNorm2d(12)\n",
        "        self.convolutional2 = nn.Conv2d(in_channels=12, out_channels=12, kernel_size=5, stride=1, padding=1)\n",
        "        self.batch_norm2 = nn.BatchNorm2d(12)\n",
        "        self.pool = nn.MaxPool2d(2,2)\n",
        "        self.convolutional3 = nn.Conv2d(in_channels=12, out_channels=24, kernel_size=5, stride=1, padding=1)\n",
        "        self.batch_norm4ch_norm3 = nn.BatchNorm2d(24)\n",
        "        self.convolutional4 = nn.Conv2d(in_channels=24, out_channels=24, kernel_size=5, stride=1, padding=1)\n",
        "        self.batch_norm5 = nn.BatchNorm2d(24)\n",
        "        n_size = self._get_conv_output((3,32,32))\n",
        "        self.flatten1 = nn.Linear(n_size, 512)\n",
        "        self.flatten2 = nn.Linear(512, 101)\n",
        "\n",
        "    def _get_conv_output(self, shape):\n",
        "      batch_size = 1\n",
        "      input = torch.autograd.Variable(torch.rand(batch_size, *shape))\n",
        "      output_feat = self._forward_features(input)\n",
        "      n_size = output_feat.data.view(batch_size, -1).size(1)\n",
        "      return n_size\n",
        "\n",
        "    def _forward_features(self, x):\n",
        "      x = self.pool(F.relu(self.convolutional1(x)))\n",
        "      x = self.pool(F.relu(self.convolutional2(x)))\n",
        "      x = self.pool(F.relu(self.convolutional3(x)))\n",
        "      return x\n",
        "        \n",
        "    def forward(self, x):\n",
        "      x = self._forward_features(x)\n",
        "      x = x.view(x.size(0), -1)\n",
        "      x = F.relu(self.flatten1(x))\n",
        "      x = self.flatten2(x)\n",
        "      return x\n"
      ],
      "metadata": {
        "id": "rtfdzlU7fM1V"
      },
      "execution_count": null,
      "outputs": []
    },
    {
      "cell_type": "code",
      "source": [
        "conv = Convolutinal_net().to(device)\n",
        "print(conv)\n",
        "\n",
        "criterion = nn.CrossEntropyLoss()\n",
        "optimizer = torch.optim.Adam(conv.parameters())"
      ],
      "metadata": {
        "colab": {
          "base_uri": "https://localhost:8080/"
        },
        "id": "Kj3hCGOH2g7S",
        "outputId": "9fc5a246-7f4a-4506-a5b0-e517cb4b914d"
      },
      "execution_count": null,
      "outputs": [
        {
          "output_type": "stream",
          "name": "stdout",
          "text": [
            "Network(\n",
            "  (conv1): Conv2d(3, 12, kernel_size=(5, 5), stride=(1, 1), padding=(1, 1))\n",
            "  (bn1): BatchNorm2d(12, eps=1e-05, momentum=0.1, affine=True, track_running_stats=True)\n",
            "  (conv2): Conv2d(12, 12, kernel_size=(5, 5), stride=(1, 1), padding=(1, 1))\n",
            "  (bn2): BatchNorm2d(12, eps=1e-05, momentum=0.1, affine=True, track_running_stats=True)\n",
            "  (pool): MaxPool2d(kernel_size=2, stride=2, padding=0, dilation=1, ceil_mode=False)\n",
            "  (conv3): Conv2d(12, 24, kernel_size=(5, 5), stride=(1, 1), padding=(1, 1))\n",
            "  (bn4): BatchNorm2d(24, eps=1e-05, momentum=0.1, affine=True, track_running_stats=True)\n",
            "  (conv4): Conv2d(24, 24, kernel_size=(5, 5), stride=(1, 1), padding=(1, 1))\n",
            "  (bn5): BatchNorm2d(24, eps=1e-05, momentum=0.1, affine=True, track_running_stats=True)\n",
            "  (fc1): Linear(in_features=96, out_features=512, bias=True)\n",
            "  (fc2): Linear(in_features=512, out_features=101, bias=True)\n",
            ")\n"
          ]
        }
      ]
    },
    {
      "cell_type": "code",
      "source": [
        "wandb.init(project=\"conv\", anonymous=\"must\")\n",
        "wandb.watch(conv, log=\"all\")\n",
        "for epoch in range(50):  \n",
        "  train(conv, device, trainloader, optimizer, criterion, epoch)\n",
        "  test(conv, device, testloader, criterion, classes)\n",
        "print(\"Finished Training\")\n",
        "wandb.finish()"
      ],
      "metadata": {
        "colab": {
          "base_uri": "https://localhost:8080/",
          "height": 1000,
          "referenced_widgets": [
            "359460609d6f41569a68646bc20493f2",
            "f0fc717f1fc74d31baa1a266dd687785",
            "3c02b4eace604fb780fdcdd7aa910184",
            "1e8f19f108b541d2a1100655cf347b7c",
            "bb67505613a24ee39d3328010aa4a71b",
            "0fada45ce3b34857b2873847bec9a949",
            "9c7a10c9fe8344e4be16bf3e622adaa0",
            "81ff37b3c21341f690f52dfd8c496bd9"
          ]
        },
        "id": "sQE3RywysRzv",
        "outputId": "3ca33778-871f-4f42-920d-430bcc7b1c71"
      },
      "execution_count": null,
      "outputs": [
        {
          "output_type": "display_data",
          "data": {
            "text/plain": [
              "<IPython.core.display.HTML object>"
            ],
            "text/html": [
              "Tracking run with wandb version 0.13.1"
            ]
          },
          "metadata": {}
        },
        {
          "output_type": "display_data",
          "data": {
            "text/plain": [
              "<IPython.core.display.HTML object>"
            ],
            "text/html": [
              "Run data is saved locally in <code>/content/wandb/run-20220811_062509-rb2leooo</code>"
            ]
          },
          "metadata": {}
        },
        {
          "output_type": "display_data",
          "data": {
            "text/plain": [
              "<IPython.core.display.HTML object>"
            ],
            "text/html": [
              "Syncing run <strong><a href=\"https://wandb.ai/te11st/conv/runs/rb2leooo\" target=\"_blank\">generous-meadow-7</a></strong> to <a href=\"https://wandb.ai/te11st/conv\" target=\"_blank\">Weights & Biases</a> (<a href=\"https://wandb.me/run\" target=\"_blank\">docs</a>)<br/>"
            ]
          },
          "metadata": {}
        },
        {
          "output_type": "stream",
          "name": "stdout",
          "text": [
            "Epoch [0], Loss: 0.0829294184923172, Accuracy: 10.93 Test_loss: 0.07785868740081787, Test_accuracy: 17.1\n",
            "Epoch [1], Loss: 0.07536808913946151, Accuracy: 19.79 Test_loss: 0.07881108665466309, Test_accuracy: 19.9\n",
            "Epoch [2], Loss: 0.0710172016263008, Accuracy: 24.58 Test_loss: 0.06357484066486359, Test_accuracy: 36.7\n",
            "Epoch [3], Loss: 0.06829377290010452, Accuracy: 27.52 Test_loss: 0.06785354375839234, Test_accuracy: 32.3\n",
            "Epoch [4], Loss: 0.0654031068444252, Accuracy: 29.93 Test_loss: 0.05682367837429047, Test_accuracy: 43.2\n",
            "Epoch [5], Loss: 0.06305856733322143, Accuracy: 33.23 Test_loss: 0.05664510846138, Test_accuracy: 43.6\n",
            "Epoch [6], Loss: 0.060622320353984835, Accuracy: 36.01 Test_loss: 0.057059803903102876, Test_accuracy: 45.0\n",
            "Epoch [7], Loss: 0.05877541810274124, Accuracy: 37.48 Test_loss: 0.058139634370803835, Test_accuracy: 42.6\n",
            "Epoch [8], Loss: 0.05677147629261017, Accuracy: 40.59 Test_loss: 0.058670524954795834, Test_accuracy: 40.7\n",
            "Epoch [9], Loss: 0.05445069574117661, Accuracy: 41.96 Test_loss: 0.066716224193573, Test_accuracy: 34.0\n",
            "Epoch [10], Loss: 0.053084130144119265, Accuracy: 43.92 Test_loss: 0.06090610897541046, Test_accuracy: 40.4\n",
            "Epoch [11], Loss: 0.05076390671730042, Accuracy: 46.41 Test_loss: 0.04802741050720215, Test_accuracy: 50.6\n",
            "Epoch [12], Loss: 0.04855883005857468, Accuracy: 48.44 Test_loss: 0.05927413868904114, Test_accuracy: 41.2\n",
            "Epoch [13], Loss: 0.04660323076844215, Accuracy: 50.22 Test_loss: 0.05572746586799621, Test_accuracy: 46.2\n",
            "Epoch [14], Loss: 0.04414384758472443, Accuracy: 53.05 Test_loss: 0.05804620397090912, Test_accuracy: 42.1\n",
            "Epoch [15], Loss: 0.04211447142362595, Accuracy: 54.45 Test_loss: 0.05349407637119293, Test_accuracy: 46.8\n",
            "Epoch [16], Loss: 0.03956719924211502, Accuracy: 57.31 Test_loss: 0.062274065852165224, Test_accuracy: 40.1\n",
            "Epoch [17], Loss: 0.03713350886702538, Accuracy: 60.21 Test_loss: 0.06002515065670013, Test_accuracy: 44.3\n",
            "Epoch [18], Loss: 0.034902150851488116, Accuracy: 62.55 Test_loss: 0.06811200392246246, Test_accuracy: 39.1\n",
            "Epoch [19], Loss: 0.032747774183750154, Accuracy: 64.62 Test_loss: 0.06299421930313111, Test_accuracy: 42.9\n",
            "Epoch [20], Loss: 0.030190246284008026, Accuracy: 67.99 Test_loss: 0.06465234231948852, Test_accuracy: 43.8\n",
            "Epoch [21], Loss: 0.027549432495236396, Accuracy: 70.48 Test_loss: 0.06807725286483765, Test_accuracy: 45.5\n",
            "Epoch [22], Loss: 0.025465176105499268, Accuracy: 72.54 Test_loss: 0.07917519116401672, Test_accuracy: 38.5\n",
            "Epoch [23], Loss: 0.023346467703580856, Accuracy: 74.59 Test_loss: 0.08615836930274963, Test_accuracy: 37.2\n",
            "Epoch [24], Loss: 0.02101914756298065, Accuracy: 77.94 Test_loss: 0.08659270119667054, Test_accuracy: 40.6\n",
            "Epoch [25], Loss: 0.018696297834813594, Accuracy: 80.02 Test_loss: 0.08851740264892578, Test_accuracy: 40.0\n",
            "Epoch [26], Loss: 0.016960459746420384, Accuracy: 81.96 Test_loss: 0.09816882181167602, Test_accuracy: 39.1\n",
            "Epoch [27], Loss: 0.015811879631876944, Accuracy: 83.11 Test_loss: 0.1100356559753418, Test_accuracy: 37.2\n",
            "Epoch [28], Loss: 0.013185181365907192, Accuracy: 85.94 Test_loss: 0.10081857657432557, Test_accuracy: 40.7\n",
            "Epoch [29], Loss: 0.011885545901209117, Accuracy: 87.72 Test_loss: 0.10018400132656097, Test_accuracy: 42.7\n",
            "Epoch [30], Loss: 0.011067431423068047, Accuracy: 88.05 Test_loss: 0.11017184901237488, Test_accuracy: 41.5\n",
            "Epoch [31], Loss: 0.009523147727176547, Accuracy: 90.05 Test_loss: 0.13338722681999207, Test_accuracy: 37.7\n",
            "Epoch [32], Loss: 0.008733063674718142, Accuracy: 90.9 Test_loss: 0.1287862423658371, Test_accuracy: 39.3\n",
            "Epoch [33], Loss: 0.00838431521989405, Accuracy: 91.18 Test_loss: 0.14611356806755066, Test_accuracy: 36.6\n",
            "Epoch [34], Loss: 0.007534449188411236, Accuracy: 92.01 Test_loss: 0.16205820369720458, Test_accuracy: 35.4\n",
            "Epoch [35], Loss: 0.008902415648847818, Accuracy: 90.25 Test_loss: 0.14723167541623117, Test_accuracy: 37.1\n",
            "Epoch [36], Loss: 0.00690226010940969, Accuracy: 92.6 Test_loss: 0.161305326461792, Test_accuracy: 36.4\n",
            "Epoch [37], Loss: 0.007798524761199951, Accuracy: 91.64 Test_loss: 0.16524517250061035, Test_accuracy: 35.9\n",
            "Epoch [38], Loss: 0.005360651697404683, Accuracy: 94.12 Test_loss: 0.16441011309623718, Test_accuracy: 37.9\n",
            "Epoch [39], Loss: 0.003609984997473657, Accuracy: 96.71 Test_loss: 0.15821918225288392, Test_accuracy: 41.1\n",
            "Epoch [40], Loss: 0.005713544215634465, Accuracy: 93.66 Test_loss: 0.17885886645317078, Test_accuracy: 38.3\n",
            "Epoch [41], Loss: 0.0074547960467636586, Accuracy: 91.82 Test_loss: 0.15365601444244384, Test_accuracy: 41.6\n",
            "Epoch [42], Loss: 0.007265670442581177, Accuracy: 92.09 Test_loss: 0.18761161136627197, Test_accuracy: 34.7\n",
            "Epoch [43], Loss: 0.004869291793182492, Accuracy: 95.3 Test_loss: 0.1889968705177307, Test_accuracy: 36.9\n",
            "Epoch [44], Loss: 0.004483963389694691, Accuracy: 95.18 Test_loss: 0.19901769447326662, Test_accuracy: 36.1\n",
            "Epoch [45], Loss: 0.0042972520117647945, Accuracy: 95.33 Test_loss: 0.19178890109062194, Test_accuracy: 38.8\n",
            "Epoch [46], Loss: 0.006682654832582921, Accuracy: 92.77 Test_loss: 0.1904811062812805, Test_accuracy: 38.0\n",
            "Epoch [47], Loss: 0.004436226804181933, Accuracy: 95.4 Test_loss: 0.21396592140197754, Test_accuracy: 35.8\n",
            "Epoch [48], Loss: 0.004234689278155565, Accuracy: 95.54 Test_loss: 0.2086792619228363, Test_accuracy: 38.2\n",
            "Epoch [49], Loss: 0.002623918735189363, Accuracy: 97.22 Test_loss: 0.2052467188835144, Test_accuracy: 38.9\n",
            "Finished Training\n"
          ]
        },
        {
          "output_type": "display_data",
          "data": {
            "text/plain": [
              "<IPython.core.display.HTML object>"
            ],
            "text/html": [
              "Waiting for W&B process to finish... <strong style=\"color:green\">(success).</strong>"
            ]
          },
          "metadata": {}
        },
        {
          "output_type": "display_data",
          "data": {
            "text/plain": [
              "VBox(children=(Label(value='0.001 MB of 0.001 MB uploaded (0.000 MB deduped)\\r'), FloatProgress(value=1.0, max…"
            ],
            "application/vnd.jupyter.widget-view+json": {
              "version_major": 2,
              "version_minor": 0,
              "model_id": "359460609d6f41569a68646bc20493f2"
            }
          },
          "metadata": {}
        },
        {
          "output_type": "display_data",
          "data": {
            "text/plain": [
              "<IPython.core.display.HTML object>"
            ],
            "text/html": [
              "<style>\n",
              "    table.wandb td:nth-child(1) { padding: 0 10px; text-align: left ; width: auto;} td:nth-child(2) {text-align: left ; width: 100%}\n",
              "    .wandb-row { display: flex; flex-direction: row; flex-wrap: wrap; justify-content: flex-start; width: 100% }\n",
              "    .wandb-col { display: flex; flex-direction: column; flex-basis: 100%; flex: 1; padding: 10px; }\n",
              "    </style>\n",
              "<div class=\"wandb-row\"><div class=\"wandb-col\"><h3>Run history:</h3><br/><table class=\"wandb\"><tr><td>Epoch</td><td>▁▁▁▁▂▂▂▂▂▃▃▃▃▃▃▄▄▄▄▄▅▅▅▅▅▅▆▆▆▆▆▆▇▇▇▇▇███</td></tr><tr><td>Test Accuracy</td><td>▁▂▅▄▇▇▆▆▆█▆▇▇▆▇▆▇▇▅▅▆▆▅▆▆▅▆▅▅▅▅▅▅▆▅▅▆▅▅▆</td></tr><tr><td>Test Loss</td><td>▂▂▂▂▁▁▁▁▂▁▁▁▁▂▂▂▂▂▂▃▃▃▄▃▄▅▄▅▅▆▆▆▇▅▇▇▇▇██</td></tr><tr><td>Train Accuracy</td><td>▁▂▂▂▃▃▃▃▄▄▄▄▅▅▅▅▆▆▆▆▇▇▇▇▇▇▇█▇███████████</td></tr><tr><td>Train Loss</td><td>█▇▇▇▆▆▆▆▅▅▅▅▄▄▄▄▃▃▃▃▂▂▂▂▂▂▂▂▂▁▁▁▁▁▁▁▁▁▁▁</td></tr></table><br/></div><div class=\"wandb-col\"><h3>Run summary:</h3><br/><table class=\"wandb\"><tr><td>Epoch</td><td>49</td></tr><tr><td>Test Accuracy</td><td>38.9</td></tr><tr><td>Test Loss</td><td>0.20525</td></tr><tr><td>Train Accuracy</td><td>97.22</td></tr><tr><td>Train Loss</td><td>0.00262</td></tr></table><br/></div></div>"
            ]
          },
          "metadata": {}
        },
        {
          "output_type": "display_data",
          "data": {
            "text/plain": [
              "<IPython.core.display.HTML object>"
            ],
            "text/html": [
              "Synced <strong style=\"color:#cdcd00\">generous-meadow-7</strong>: <a href=\"https://wandb.ai/te11st/conv/runs/rb2leooo\" target=\"_blank\">https://wandb.ai/te11st/conv/runs/rb2leooo</a><br/>Synced 5 W&B file(s), 0 media file(s), 0 artifact file(s) and 0 other file(s)"
            ]
          },
          "metadata": {}
        },
        {
          "output_type": "display_data",
          "data": {
            "text/plain": [
              "<IPython.core.display.HTML object>"
            ],
            "text/html": [
              "Find logs at: <code>./wandb/run-20220811_062509-rb2leooo/logs</code>"
            ]
          },
          "metadata": {}
        }
      ]
    },
    {
      "cell_type": "markdown",
      "source": [
        "##All Convolutional Net with regularization"
      ],
      "metadata": {
        "id": "33TdAazSLN-o"
      }
    },
    {
      "cell_type": "code",
      "source": [
        "class regularised_cnn(pl.LightningModule):\n",
        "  def __init__(self):\n",
        "    super(regularised_cnn, self).__init__()\n",
        "    self.convolutional1 = nn.Conv2d(in_channels=3, out_channels=12, kernel_size=5, stride=1, padding=1)\n",
        "    self.batch_norm1 = nn.BatchNorm2d(12)\n",
        "    self.convolutional2 = nn.Conv2d(in_channels=12, out_channels=12, kernel_size=5, stride=1, padding=1)\n",
        "    self.batch_norm2 = nn.BatchNorm2d(12)\n",
        "    self.pool = nn.MaxPool2d(2,2)\n",
        "    self.convolutional3 = nn.Conv2d(in_channels=12, out_channels=24, kernel_size=5, stride=1, padding=1)\n",
        "    self.batch_norm3 = nn.BatchNorm2d(24)\n",
        "    self.convolutional4 = nn.Conv2d(in_channels=24, out_channels=24, kernel_size=5, stride=1, padding=1)\n",
        "    self.batch_norm5 = nn.BatchNorm2d(24)\n",
        "    n_size = self._get_conv_output((3,32,32))\n",
        "    self.flatten1 = nn.Linear(n_size, 512)\n",
        "    self.flatten2 = nn.Linear(512, 101)\n",
        "    self.dropout = nn.Dropout(0.25)\n",
        "\n",
        "  def _get_conv_output(self, shape):\n",
        "    batch_size = 1\n",
        "    input = torch.autograd.Variable(torch.rand(batch_size, *shape))\n",
        "    output_feat = self._forward_features(input)\n",
        "    n_size = output_feat.data.view(batch_size, -1).size(1)\n",
        "    return n_size\n",
        "\n",
        "  def _forward_features(self, x):\n",
        "    x = self.pool(F.relu(self.convolutional1(x)))\n",
        "    x = self.pool(F.relu(self.convolutional2(x)))\n",
        "    x = self.pool(F.relu(self.convolutional3(x)))\n",
        "    return x\n",
        "      \n",
        "  def forward(self, x):\n",
        "    x = self._forward_features(x)\n",
        "    x = x.view(x.size(0), -1)\n",
        "    x = self.dropout(x)\n",
        "    x = F.relu(self.flatten1(x))\n",
        "    x = self.dropout(x)\n",
        "    x = self.flatten2(x)\n",
        "    return x"
      ],
      "metadata": {
        "id": "rSFIA81uMSfp"
      },
      "execution_count": null,
      "outputs": []
    },
    {
      "cell_type": "code",
      "source": [
        "regularised_cnn = regularised_cnn().to(device)\n",
        "print(regularised_cnn)\n",
        "\n",
        "criterion = nn.CrossEntropyLoss()\n",
        "optimizer = torch.optim.Adam(regularised_cnn.parameters())"
      ],
      "metadata": {
        "id": "p9BuetgfrAfe",
        "colab": {
          "base_uri": "https://localhost:8080/"
        },
        "outputId": "6732c312-0855-421b-ccc3-1fe73ded27d4"
      },
      "execution_count": null,
      "outputs": [
        {
          "output_type": "stream",
          "name": "stdout",
          "text": [
            "regularised_cnn(\n",
            "  (conv1): Conv2d(3, 12, kernel_size=(5, 5), stride=(1, 1), padding=(1, 1))\n",
            "  (bn1): BatchNorm2d(12, eps=1e-05, momentum=0.1, affine=True, track_running_stats=True)\n",
            "  (conv2): Conv2d(12, 12, kernel_size=(5, 5), stride=(1, 1), padding=(1, 1))\n",
            "  (bn2): BatchNorm2d(12, eps=1e-05, momentum=0.1, affine=True, track_running_stats=True)\n",
            "  (pool): MaxPool2d(kernel_size=2, stride=2, padding=0, dilation=1, ceil_mode=False)\n",
            "  (conv3): Conv2d(12, 24, kernel_size=(5, 5), stride=(1, 1), padding=(1, 1))\n",
            "  (bn4): BatchNorm2d(24, eps=1e-05, momentum=0.1, affine=True, track_running_stats=True)\n",
            "  (conv4): Conv2d(24, 24, kernel_size=(5, 5), stride=(1, 1), padding=(1, 1))\n",
            "  (bn5): BatchNorm2d(24, eps=1e-05, momentum=0.1, affine=True, track_running_stats=True)\n",
            "  (fc1): Linear(in_features=96, out_features=512, bias=True)\n",
            "  (fc2): Linear(in_features=512, out_features=101, bias=True)\n",
            "  (dropout): Dropout(p=0.25, inplace=False)\n",
            ")\n"
          ]
        }
      ]
    },
    {
      "cell_type": "code",
      "source": [
        "wandb.init(project=\"regularised_cnn\", anonymous=\"must\")\n",
        "wandb.watch(regularised_cnn, log=\"all\")\n",
        "\n",
        "for epoch in range(50):  \n",
        "  train(regularised_cnn, device, trainloader, optimizer, criterion, epoch)\n",
        "  test(regularised_cnn, device, testloader, criterion, classes)\n",
        "\n",
        "print(\"Finished Training\")\n",
        "wandb.finish()"
      ],
      "metadata": {
        "id": "5l4yiGeGZENZ",
        "colab": {
          "base_uri": "https://localhost:8080/",
          "height": 1000,
          "referenced_widgets": [
            "cb5d6cb845bc4783bafa1895a16957e1",
            "89eb5ea2e2c74cfd987fd2f0b13df04f",
            "b007f42ca5e245568d64e5694f84671f",
            "ec65afd0431e40e8bb26f3867bc2d56c",
            "3b64aa5e7cee433eafe64cd56bc68d41",
            "8f838fe54464444bbdec56fd4b24a093",
            "abb7ff2b827d4e8fa3857606fef78196",
            "75e2935fb1074812bb2715dccfb6ad96"
          ]
        },
        "outputId": "62ce2823-0407-46e1-ad45-95e655980715"
      },
      "execution_count": null,
      "outputs": [
        {
          "output_type": "display_data",
          "data": {
            "text/plain": [
              "<IPython.core.display.HTML object>"
            ],
            "text/html": [
              "Tracking run with wandb version 0.13.1"
            ]
          },
          "metadata": {}
        },
        {
          "output_type": "display_data",
          "data": {
            "text/plain": [
              "<IPython.core.display.HTML object>"
            ],
            "text/html": [
              "Run data is saved locally in <code>/content/wandb/run-20220811_072014-242nvc6v</code>"
            ]
          },
          "metadata": {}
        },
        {
          "output_type": "display_data",
          "data": {
            "text/plain": [
              "<IPython.core.display.HTML object>"
            ],
            "text/html": [
              "Syncing run <strong><a href=\"https://wandb.ai/te11st/regularised_cnn/runs/242nvc6v\" target=\"_blank\">dandy-silence-1</a></strong> to <a href=\"https://wandb.ai/te11st/regularised_cnn\" target=\"_blank\">Weights & Biases</a> (<a href=\"https://wandb.me/run\" target=\"_blank\">docs</a>)<br/>"
            ]
          },
          "metadata": {}
        },
        {
          "output_type": "stream",
          "name": "stdout",
          "text": [
            "Epoch [0], Loss: 0.08429864344596863, Accuracy: 9.27 Test_loss: 0.07733839821815491, Test_accuracy: 21.8\n",
            "Epoch [1], Loss: 0.07793224468231201, Accuracy: 16.07 Test_loss: 0.0689458476305008, Test_accuracy: 31.7\n",
            "Epoch [2], Loss: 0.07321700410842895, Accuracy: 21.99 Test_loss: 0.06763817167282105, Test_accuracy: 33.3\n",
            "Epoch [3], Loss: 0.07018707392215728, Accuracy: 25.11 Test_loss: 0.06748385155200959, Test_accuracy: 36.0\n",
            "Epoch [4], Loss: 0.06801937022209167, Accuracy: 27.89 Test_loss: 0.05836944317817688, Test_accuracy: 41.7\n",
            "Epoch [5], Loss: 0.06614044271707535, Accuracy: 29.42 Test_loss: 0.0667255746126175, Test_accuracy: 33.1\n",
            "Epoch [6], Loss: 0.06461295566558838, Accuracy: 31.51 Test_loss: 0.06320724618434906, Test_accuracy: 35.3\n",
            "Epoch [7], Loss: 0.06355776748657227, Accuracy: 32.45 Test_loss: 0.054621081709861755, Test_accuracy: 47.9\n",
            "Epoch [8], Loss: 0.06174176638126373, Accuracy: 34.05 Test_loss: 0.05475268030166626, Test_accuracy: 47.3\n",
            "Epoch [9], Loss: 0.06090915642976761, Accuracy: 35.73 Test_loss: 0.05430220353603363, Test_accuracy: 46.5\n",
            "Epoch [10], Loss: 0.059665618515014646, Accuracy: 36.24 Test_loss: 0.05701271617412567, Test_accuracy: 41.0\n",
            "Epoch [11], Loss: 0.05905010358095169, Accuracy: 37.43 Test_loss: 0.05770796501636505, Test_accuracy: 39.7\n",
            "Epoch [12], Loss: 0.05793420889377594, Accuracy: 38.08 Test_loss: 0.0530345698595047, Test_accuracy: 46.5\n",
            "Epoch [13], Loss: 0.05749690229892731, Accuracy: 39.22 Test_loss: 0.05677660810947418, Test_accuracy: 41.9\n",
            "Epoch [14], Loss: 0.05649494297504425, Accuracy: 39.53 Test_loss: 0.05218413126468659, Test_accuracy: 49.0\n",
            "Epoch [15], Loss: 0.055625476253032685, Accuracy: 40.56 Test_loss: 0.052018055856227874, Test_accuracy: 49.2\n",
            "Epoch [16], Loss: 0.05496033095121384, Accuracy: 40.99 Test_loss: 0.055796626567840575, Test_accuracy: 46.1\n",
            "Epoch [17], Loss: 0.05427773269414902, Accuracy: 42.04 Test_loss: 0.05180779898166656, Test_accuracy: 48.6\n",
            "Epoch [18], Loss: 0.05349824855327606, Accuracy: 43.09 Test_loss: 0.05292939698696136, Test_accuracy: 48.7\n",
            "Epoch [19], Loss: 0.05333070038557053, Accuracy: 43.32 Test_loss: 0.0545378041267395, Test_accuracy: 48.4\n",
            "Epoch [20], Loss: 0.0527386113524437, Accuracy: 43.61 Test_loss: 0.05699880242347717, Test_accuracy: 39.4\n",
            "Epoch [21], Loss: 0.0523623183131218, Accuracy: 44.14 Test_loss: 0.056877793073654176, Test_accuracy: 42.9\n",
            "Epoch [22], Loss: 0.0515263040304184, Accuracy: 44.31 Test_loss: 0.05509649336338043, Test_accuracy: 44.5\n",
            "Epoch [23], Loss: 0.05099298212528229, Accuracy: 45.26 Test_loss: 0.05119605827331543, Test_accuracy: 46.2\n",
            "Epoch [24], Loss: 0.050630520915985106, Accuracy: 45.39 Test_loss: 0.053099503040313724, Test_accuracy: 48.0\n",
            "Epoch [25], Loss: 0.05024250838756561, Accuracy: 45.63 Test_loss: 0.051278112769126895, Test_accuracy: 46.2\n",
            "Epoch [26], Loss: 0.049668469393253326, Accuracy: 46.66 Test_loss: 0.05188855767250061, Test_accuracy: 48.6\n",
            "Epoch [27], Loss: 0.04910332293510437, Accuracy: 47.46 Test_loss: 0.05379970908164978, Test_accuracy: 46.7\n",
            "Epoch [28], Loss: 0.0489155215382576, Accuracy: 46.65 Test_loss: 0.05472844433784485, Test_accuracy: 44.8\n",
            "Epoch [29], Loss: 0.04852368565797806, Accuracy: 47.73 Test_loss: 0.050493218898773194, Test_accuracy: 46.4\n",
            "Epoch [30], Loss: 0.04770646194815636, Accuracy: 48.81 Test_loss: 0.05161048662662506, Test_accuracy: 49.1\n",
            "Epoch [31], Loss: 0.047366724145412445, Accuracy: 48.71 Test_loss: 0.0523011816740036, Test_accuracy: 48.6\n",
            "Epoch [32], Loss: 0.04707196858525276, Accuracy: 48.83 Test_loss: 0.05121918225288391, Test_accuracy: 48.6\n",
            "Epoch [33], Loss: 0.04664488507509232, Accuracy: 49.43 Test_loss: 0.04909093451499939, Test_accuracy: 51.5\n",
            "Epoch [34], Loss: 0.046339640307426454, Accuracy: 50.07 Test_loss: 0.054752588868141175, Test_accuracy: 44.7\n",
            "Epoch [35], Loss: 0.0456280400454998, Accuracy: 50.23 Test_loss: 0.05016408157348633, Test_accuracy: 49.4\n",
            "Epoch [36], Loss: 0.04584478971362114, Accuracy: 50.55 Test_loss: 0.05307951462268829, Test_accuracy: 49.6\n",
            "Epoch [37], Loss: 0.045093542033433916, Accuracy: 51.39 Test_loss: 0.05515621447563172, Test_accuracy: 45.4\n",
            "Epoch [38], Loss: 0.044802596181631085, Accuracy: 51.37 Test_loss: 0.04952316391468048, Test_accuracy: 51.3\n",
            "Epoch [39], Loss: 0.044785376834869384, Accuracy: 51.77 Test_loss: 0.055590580701828006, Test_accuracy: 46.0\n",
            "Epoch [40], Loss: 0.044422712081670764, Accuracy: 51.58 Test_loss: 0.054334740042686465, Test_accuracy: 47.7\n",
            "Epoch [41], Loss: 0.04348861068487167, Accuracy: 52.56 Test_loss: 0.05172644400596619, Test_accuracy: 47.3\n",
            "Epoch [42], Loss: 0.0439592419564724, Accuracy: 52.37 Test_loss: 0.05680431544780731, Test_accuracy: 43.8\n",
            "Epoch [43], Loss: 0.04277561119198799, Accuracy: 52.55 Test_loss: 0.05233128786087036, Test_accuracy: 49.6\n",
            "Epoch [44], Loss: 0.04301646552681923, Accuracy: 53.27 Test_loss: 0.055171332240104676, Test_accuracy: 44.0\n",
            "Epoch [45], Loss: 0.04306245023012161, Accuracy: 53.14 Test_loss: 0.053631899416446686, Test_accuracy: 47.4\n",
            "Epoch [46], Loss: 0.04252345902919769, Accuracy: 53.37 Test_loss: 0.058310162365436555, Test_accuracy: 41.7\n",
            "Epoch [47], Loss: 0.04230058099031448, Accuracy: 54.18 Test_loss: 0.057251694917678835, Test_accuracy: 45.2\n",
            "Epoch [48], Loss: 0.04224953929781914, Accuracy: 53.82 Test_loss: 0.059831708192825316, Test_accuracy: 43.1\n",
            "Epoch [49], Loss: 0.04209019788503647, Accuracy: 53.82 Test_loss: 0.053497686624526974, Test_accuracy: 46.8\n",
            "Finished Training\n"
          ]
        },
        {
          "output_type": "display_data",
          "data": {
            "text/plain": [
              "<IPython.core.display.HTML object>"
            ],
            "text/html": [
              "Waiting for W&B process to finish... <strong style=\"color:green\">(success).</strong>"
            ]
          },
          "metadata": {}
        },
        {
          "output_type": "display_data",
          "data": {
            "text/plain": [
              "VBox(children=(Label(value='0.001 MB of 0.001 MB uploaded (0.000 MB deduped)\\r'), FloatProgress(value=1.0, max…"
            ],
            "application/vnd.jupyter.widget-view+json": {
              "version_major": 2,
              "version_minor": 0,
              "model_id": "cb5d6cb845bc4783bafa1895a16957e1"
            }
          },
          "metadata": {}
        },
        {
          "output_type": "display_data",
          "data": {
            "text/plain": [
              "<IPython.core.display.HTML object>"
            ],
            "text/html": [
              "<style>\n",
              "    table.wandb td:nth-child(1) { padding: 0 10px; text-align: left ; width: auto;} td:nth-child(2) {text-align: left ; width: 100%}\n",
              "    .wandb-row { display: flex; flex-direction: row; flex-wrap: wrap; justify-content: flex-start; width: 100% }\n",
              "    .wandb-col { display: flex; flex-direction: column; flex-basis: 100%; flex: 1; padding: 10px; }\n",
              "    </style>\n",
              "<div class=\"wandb-row\"><div class=\"wandb-col\"><h3>Run history:</h3><br/><table class=\"wandb\"><tr><td>Epoch</td><td>▁▁▁▁▂▂▂▂▂▃▃▃▃▃▃▄▄▄▄▄▅▅▅▅▅▅▆▆▆▆▆▆▇▇▇▇▇███</td></tr><tr><td>Test Accuracy</td><td>▁▃▄▄▄▄▇▇▆▅▇▆▇▇▇▇▅▆▆▇▇▇▇▆▇▇▇███▇█▇▇▆█▇▆▇▇</td></tr><tr><td>Test Loss</td><td>█▆▆▆▅▄▂▂▃▃▂▃▂▃▂▂▃▃▂▂▂▂▂▂▂▂▂▁▁▂▃▁▂▂▃▂▂▃▃▂</td></tr><tr><td>Train Accuracy</td><td>▁▂▃▃▄▄▅▅▅▅▅▆▆▆▆▆▆▆▆▇▇▇▇▇▇▇▇▇▇▇██████████</td></tr><tr><td>Train Loss</td><td>█▇▆▆▅▅▅▄▄▄▄▄▃▃▃▃▃▃▃▂▂▂▂▂▂▂▂▂▂▂▁▁▁▁▁▁▁▁▁▁</td></tr></table><br/></div><div class=\"wandb-col\"><h3>Run summary:</h3><br/><table class=\"wandb\"><tr><td>Epoch</td><td>49</td></tr><tr><td>Test Accuracy</td><td>46.8</td></tr><tr><td>Test Loss</td><td>0.0535</td></tr><tr><td>Train Accuracy</td><td>53.82</td></tr><tr><td>Train Loss</td><td>0.04209</td></tr></table><br/></div></div>"
            ]
          },
          "metadata": {}
        },
        {
          "output_type": "display_data",
          "data": {
            "text/plain": [
              "<IPython.core.display.HTML object>"
            ],
            "text/html": [
              "Synced <strong style=\"color:#cdcd00\">dandy-silence-1</strong>: <a href=\"https://wandb.ai/te11st/regularised_cnn/runs/242nvc6v\" target=\"_blank\">https://wandb.ai/te11st/regularised_cnn/runs/242nvc6v</a><br/>Synced 5 W&B file(s), 0 media file(s), 0 artifact file(s) and 0 other file(s)"
            ]
          },
          "metadata": {}
        },
        {
          "output_type": "display_data",
          "data": {
            "text/plain": [
              "<IPython.core.display.HTML object>"
            ],
            "text/html": [
              "Find logs at: <code>./wandb/run-20220811_072014-242nvc6v/logs</code>"
            ]
          },
          "metadata": {}
        }
      ]
    },
    {
      "cell_type": "markdown",
      "source": [
        "#Transfer Learning"
      ],
      "metadata": {
        "id": "b1qkdEe1SE_E"
      }
    },
    {
      "cell_type": "code",
      "source": [
        "import torchvision.models as models"
      ],
      "metadata": {
        "id": "H00jeNr9S4bw"
      },
      "execution_count": null,
      "outputs": []
    },
    {
      "cell_type": "code",
      "source": [
        "class transfer_learning(pl.LightningModule):\n",
        "    def __init__(self):\n",
        "        super().__init__()\n",
        "        self.resnet_model = models.resnet18(pretrained=True)\n",
        "        linear_size = list(self.resnet_model.children())[-1].in_features\n",
        "        self.resnet_model.fc = nn.Linear(linear_size, 101)\n",
        "\n",
        "    def forward(self, X):\n",
        "        return self.resnet_model(X)\n",
        "\n",
        "    def configure_optimizers(self):\n",
        "        return self.optimizer(self.parameters(), lr=self.lr)"
      ],
      "metadata": {
        "id": "nTnEwRLxSIDa"
      },
      "execution_count": null,
      "outputs": []
    },
    {
      "cell_type": "code",
      "source": [
        "transfer = transfer_learning().to(device)\n",
        "print(transfer)\n",
        "\n",
        "criterion = nn.CrossEntropyLoss()\n",
        "optimizer = torch.optim.Adam(transfer.parameters())"
      ],
      "metadata": {
        "id": "wmQpDC7BrnmQ",
        "colab": {
          "base_uri": "https://localhost:8080/"
        },
        "outputId": "e310d868-1daa-4182-8511-e61e90eb3112"
      },
      "execution_count": null,
      "outputs": [
        {
          "output_type": "stream",
          "name": "stderr",
          "text": [
            "/usr/local/lib/python3.7/dist-packages/torchvision/models/_utils.py:209: UserWarning: The parameter 'pretrained' is deprecated since 0.13 and will be removed in 0.15, please use 'weights' instead.\n",
            "  f\"The parameter '{pretrained_param}' is deprecated since 0.13 and will be removed in 0.15, \"\n",
            "/usr/local/lib/python3.7/dist-packages/torchvision/models/_utils.py:223: UserWarning: Arguments other than a weight enum or `None` for 'weights' are deprecated since 0.13 and will be removed in 0.15. The current behavior is equivalent to passing `weights=ResNet18_Weights.IMAGENET1K_V1`. You can also use `weights=ResNet18_Weights.DEFAULT` to get the most up-to-date weights.\n",
            "  warnings.warn(msg)\n"
          ]
        },
        {
          "output_type": "stream",
          "name": "stdout",
          "text": [
            "transfer_learning(\n",
            "  (resnet_model): ResNet(\n",
            "    (conv1): Conv2d(3, 64, kernel_size=(7, 7), stride=(2, 2), padding=(3, 3), bias=False)\n",
            "    (bn1): BatchNorm2d(64, eps=1e-05, momentum=0.1, affine=True, track_running_stats=True)\n",
            "    (relu): ReLU(inplace=True)\n",
            "    (maxpool): MaxPool2d(kernel_size=3, stride=2, padding=1, dilation=1, ceil_mode=False)\n",
            "    (layer1): Sequential(\n",
            "      (0): BasicBlock(\n",
            "        (conv1): Conv2d(64, 64, kernel_size=(3, 3), stride=(1, 1), padding=(1, 1), bias=False)\n",
            "        (bn1): BatchNorm2d(64, eps=1e-05, momentum=0.1, affine=True, track_running_stats=True)\n",
            "        (relu): ReLU(inplace=True)\n",
            "        (conv2): Conv2d(64, 64, kernel_size=(3, 3), stride=(1, 1), padding=(1, 1), bias=False)\n",
            "        (bn2): BatchNorm2d(64, eps=1e-05, momentum=0.1, affine=True, track_running_stats=True)\n",
            "      )\n",
            "      (1): BasicBlock(\n",
            "        (conv1): Conv2d(64, 64, kernel_size=(3, 3), stride=(1, 1), padding=(1, 1), bias=False)\n",
            "        (bn1): BatchNorm2d(64, eps=1e-05, momentum=0.1, affine=True, track_running_stats=True)\n",
            "        (relu): ReLU(inplace=True)\n",
            "        (conv2): Conv2d(64, 64, kernel_size=(3, 3), stride=(1, 1), padding=(1, 1), bias=False)\n",
            "        (bn2): BatchNorm2d(64, eps=1e-05, momentum=0.1, affine=True, track_running_stats=True)\n",
            "      )\n",
            "    )\n",
            "    (layer2): Sequential(\n",
            "      (0): BasicBlock(\n",
            "        (conv1): Conv2d(64, 128, kernel_size=(3, 3), stride=(2, 2), padding=(1, 1), bias=False)\n",
            "        (bn1): BatchNorm2d(128, eps=1e-05, momentum=0.1, affine=True, track_running_stats=True)\n",
            "        (relu): ReLU(inplace=True)\n",
            "        (conv2): Conv2d(128, 128, kernel_size=(3, 3), stride=(1, 1), padding=(1, 1), bias=False)\n",
            "        (bn2): BatchNorm2d(128, eps=1e-05, momentum=0.1, affine=True, track_running_stats=True)\n",
            "        (downsample): Sequential(\n",
            "          (0): Conv2d(64, 128, kernel_size=(1, 1), stride=(2, 2), bias=False)\n",
            "          (1): BatchNorm2d(128, eps=1e-05, momentum=0.1, affine=True, track_running_stats=True)\n",
            "        )\n",
            "      )\n",
            "      (1): BasicBlock(\n",
            "        (conv1): Conv2d(128, 128, kernel_size=(3, 3), stride=(1, 1), padding=(1, 1), bias=False)\n",
            "        (bn1): BatchNorm2d(128, eps=1e-05, momentum=0.1, affine=True, track_running_stats=True)\n",
            "        (relu): ReLU(inplace=True)\n",
            "        (conv2): Conv2d(128, 128, kernel_size=(3, 3), stride=(1, 1), padding=(1, 1), bias=False)\n",
            "        (bn2): BatchNorm2d(128, eps=1e-05, momentum=0.1, affine=True, track_running_stats=True)\n",
            "      )\n",
            "    )\n",
            "    (layer3): Sequential(\n",
            "      (0): BasicBlock(\n",
            "        (conv1): Conv2d(128, 256, kernel_size=(3, 3), stride=(2, 2), padding=(1, 1), bias=False)\n",
            "        (bn1): BatchNorm2d(256, eps=1e-05, momentum=0.1, affine=True, track_running_stats=True)\n",
            "        (relu): ReLU(inplace=True)\n",
            "        (conv2): Conv2d(256, 256, kernel_size=(3, 3), stride=(1, 1), padding=(1, 1), bias=False)\n",
            "        (bn2): BatchNorm2d(256, eps=1e-05, momentum=0.1, affine=True, track_running_stats=True)\n",
            "        (downsample): Sequential(\n",
            "          (0): Conv2d(128, 256, kernel_size=(1, 1), stride=(2, 2), bias=False)\n",
            "          (1): BatchNorm2d(256, eps=1e-05, momentum=0.1, affine=True, track_running_stats=True)\n",
            "        )\n",
            "      )\n",
            "      (1): BasicBlock(\n",
            "        (conv1): Conv2d(256, 256, kernel_size=(3, 3), stride=(1, 1), padding=(1, 1), bias=False)\n",
            "        (bn1): BatchNorm2d(256, eps=1e-05, momentum=0.1, affine=True, track_running_stats=True)\n",
            "        (relu): ReLU(inplace=True)\n",
            "        (conv2): Conv2d(256, 256, kernel_size=(3, 3), stride=(1, 1), padding=(1, 1), bias=False)\n",
            "        (bn2): BatchNorm2d(256, eps=1e-05, momentum=0.1, affine=True, track_running_stats=True)\n",
            "      )\n",
            "    )\n",
            "    (layer4): Sequential(\n",
            "      (0): BasicBlock(\n",
            "        (conv1): Conv2d(256, 512, kernel_size=(3, 3), stride=(2, 2), padding=(1, 1), bias=False)\n",
            "        (bn1): BatchNorm2d(512, eps=1e-05, momentum=0.1, affine=True, track_running_stats=True)\n",
            "        (relu): ReLU(inplace=True)\n",
            "        (conv2): Conv2d(512, 512, kernel_size=(3, 3), stride=(1, 1), padding=(1, 1), bias=False)\n",
            "        (bn2): BatchNorm2d(512, eps=1e-05, momentum=0.1, affine=True, track_running_stats=True)\n",
            "        (downsample): Sequential(\n",
            "          (0): Conv2d(256, 512, kernel_size=(1, 1), stride=(2, 2), bias=False)\n",
            "          (1): BatchNorm2d(512, eps=1e-05, momentum=0.1, affine=True, track_running_stats=True)\n",
            "        )\n",
            "      )\n",
            "      (1): BasicBlock(\n",
            "        (conv1): Conv2d(512, 512, kernel_size=(3, 3), stride=(1, 1), padding=(1, 1), bias=False)\n",
            "        (bn1): BatchNorm2d(512, eps=1e-05, momentum=0.1, affine=True, track_running_stats=True)\n",
            "        (relu): ReLU(inplace=True)\n",
            "        (conv2): Conv2d(512, 512, kernel_size=(3, 3), stride=(1, 1), padding=(1, 1), bias=False)\n",
            "        (bn2): BatchNorm2d(512, eps=1e-05, momentum=0.1, affine=True, track_running_stats=True)\n",
            "      )\n",
            "    )\n",
            "    (avgpool): AdaptiveAvgPool2d(output_size=(1, 1))\n",
            "    (fc): Linear(in_features=512, out_features=101, bias=True)\n",
            "  )\n",
            ")\n"
          ]
        }
      ]
    },
    {
      "cell_type": "code",
      "source": [
        "wandb.init(project=\"transfer_learning\", anonymous=\"must\")\n",
        "wandb.watch(transfer, log=\"all\")\n",
        "\n",
        "for epoch in range(50):  \n",
        "  train(transfer, device, trainloader, optimizer, criterion, epoch)\n",
        "  test(transfer, device, testloader, criterion, classes)\n",
        "\n",
        "print(\"Finished Training\")\n",
        "wandb.finish()"
      ],
      "metadata": {
        "colab": {
          "base_uri": "https://localhost:8080/",
          "height": 1000,
          "referenced_widgets": [
            "909c3c95c94e432baefbdd8878b38ee9",
            "f2f10f359ba942df95c3ef76139bcd8e",
            "4cc1c0fd0b8842f79038bf61ef215a0c",
            "2028f9dfb01843cab9956cac55d65bb9",
            "3f4a5e22fd0741a09ce15db9691186f5",
            "53114c82eac04b90aa238187388a97b4",
            "794d13fd39044fe799b7c64d64782ed4",
            "cb22741e54cb4a47b368883e9664ca66",
            "0162e53146fb476ab7676016cc6c54a8",
            "64ee06579897438392f921571c4a48c7",
            "1ad576ed17c448d9af97fd5e3bdf0efa",
            "fa87c9cd12034c0799bbb29ef383ddc5",
            "908dd2d8481f456685638015fea5aff8",
            "4227470b4eb0433899620ea9f18fe408",
            "6e787a43973f403dbea306b9dd548c4f",
            "27bc0c6e7f534edf918fb5807b710594"
          ]
        },
        "id": "4lT_M7NC4iov",
        "outputId": "6359ae6c-94c1-4678-dfad-69de43726aa6"
      },
      "execution_count": null,
      "outputs": [
        {
          "output_type": "display_data",
          "data": {
            "text/plain": [
              "<IPython.core.display.HTML object>"
            ],
            "text/html": [
              "Finishing last run (ID:3gmwcsmm) before initializing another..."
            ]
          },
          "metadata": {}
        },
        {
          "output_type": "display_data",
          "data": {
            "text/plain": [
              "<IPython.core.display.HTML object>"
            ],
            "text/html": [
              "Waiting for W&B process to finish... <strong style=\"color:green\">(success).</strong>"
            ]
          },
          "metadata": {}
        },
        {
          "output_type": "display_data",
          "data": {
            "text/plain": [
              "VBox(children=(Label(value='0.001 MB of 0.001 MB uploaded (0.000 MB deduped)\\r'), FloatProgress(value=1.0, max…"
            ],
            "application/vnd.jupyter.widget-view+json": {
              "version_major": 2,
              "version_minor": 0,
              "model_id": "909c3c95c94e432baefbdd8878b38ee9"
            }
          },
          "metadata": {}
        },
        {
          "output_type": "display_data",
          "data": {
            "text/plain": [
              "<IPython.core.display.HTML object>"
            ],
            "text/html": [
              "Synced <strong style=\"color:#cdcd00\">magic-fog-6</strong>: <a href=\"https://wandb.ai/te11st/transfer_learning/runs/3gmwcsmm\" target=\"_blank\">https://wandb.ai/te11st/transfer_learning/runs/3gmwcsmm</a><br/>Synced 5 W&B file(s), 0 media file(s), 0 artifact file(s) and 0 other file(s)"
            ]
          },
          "metadata": {}
        },
        {
          "output_type": "display_data",
          "data": {
            "text/plain": [
              "<IPython.core.display.HTML object>"
            ],
            "text/html": [
              "Find logs at: <code>./wandb/run-20220811_084045-3gmwcsmm/logs</code>"
            ]
          },
          "metadata": {}
        },
        {
          "output_type": "display_data",
          "data": {
            "text/plain": [
              "<IPython.core.display.HTML object>"
            ],
            "text/html": [
              "Successfully finished last run (ID:3gmwcsmm). Initializing new run:<br/>"
            ]
          },
          "metadata": {}
        },
        {
          "output_type": "display_data",
          "data": {
            "text/plain": [
              "<IPython.core.display.HTML object>"
            ],
            "text/html": [
              "Tracking run with wandb version 0.13.1"
            ]
          },
          "metadata": {}
        },
        {
          "output_type": "display_data",
          "data": {
            "text/plain": [
              "<IPython.core.display.HTML object>"
            ],
            "text/html": [
              "Run data is saved locally in <code>/content/wandb/run-20220811_084539-3pm45jpm</code>"
            ]
          },
          "metadata": {}
        },
        {
          "output_type": "display_data",
          "data": {
            "text/plain": [
              "<IPython.core.display.HTML object>"
            ],
            "text/html": [
              "Syncing run <strong><a href=\"https://wandb.ai/te11st/transfer_learning/runs/3pm45jpm\" target=\"_blank\">radiant-sun-7</a></strong> to <a href=\"https://wandb.ai/te11st/transfer_learning\" target=\"_blank\">Weights & Biases</a> (<a href=\"https://wandb.me/run\" target=\"_blank\">docs</a>)<br/>"
            ]
          },
          "metadata": {}
        },
        {
          "output_type": "stream",
          "name": "stdout",
          "text": [
            "Epoch [0], Loss: 0.06906910648345947, Accuracy: 29.59 Test_loss: 0.058611322045326236, Test_accuracy: 35.6\n",
            "Epoch [1], Loss: 0.05987363650798798, Accuracy: 38.0 Test_loss: 0.054698577046394345, Test_accuracy: 38.7\n",
            "Epoch [2], Loss: 0.0523358836889267, Accuracy: 45.99 Test_loss: 0.05053209984302521, Test_accuracy: 44.0\n",
            "Epoch [3], Loss: 0.04907348356842995, Accuracy: 49.51 Test_loss: 0.05440404164791107, Test_accuracy: 52.8\n",
            "Epoch [4], Loss: 0.045754677474498746, Accuracy: 53.5 Test_loss: 0.0618340619802475, Test_accuracy: 45.8\n",
            "Epoch [5], Loss: 0.04066835623383522, Accuracy: 58.83 Test_loss: 0.047113047122955325, Test_accuracy: 57.3\n",
            "Epoch [6], Loss: 0.0338924761891365, Accuracy: 65.77 Test_loss: 0.069430823802948, Test_accuracy: 52.6\n",
            "Epoch [7], Loss: 0.02998514212667942, Accuracy: 69.32 Test_loss: 0.060069990038871764, Test_accuracy: 50.1\n",
            "Epoch [8], Loss: 0.02307533033192158, Accuracy: 76.5 Test_loss: 0.0750342059135437, Test_accuracy: 42.4\n",
            "Epoch [9], Loss: 0.017809310820698736, Accuracy: 81.65 Test_loss: 0.05852867317199707, Test_accuracy: 55.5\n",
            "Epoch [10], Loss: 0.014861420305818319, Accuracy: 84.66 Test_loss: 0.05433208727836609, Test_accuracy: 56.7\n",
            "Epoch [11], Loss: 0.01184004155099392, Accuracy: 87.97 Test_loss: 0.07834509646892547, Test_accuracy: 46.2\n",
            "Epoch [12], Loss: 0.009521239046007395, Accuracy: 90.17 Test_loss: 0.07318760108947754, Test_accuracy: 54.8\n",
            "Epoch [13], Loss: 0.008836798740923404, Accuracy: 90.76 Test_loss: 0.06806298989057541, Test_accuracy: 53.8\n",
            "Epoch [14], Loss: 0.008861476198583842, Accuracy: 90.64 Test_loss: 0.07307101106643676, Test_accuracy: 49.7\n",
            "Epoch [15], Loss: 0.006787282643653452, Accuracy: 93.07 Test_loss: 0.07381307220458984, Test_accuracy: 53.7\n",
            "Epoch [16], Loss: 0.006305778673011809, Accuracy: 93.51 Test_loss: 0.07225542449951172, Test_accuracy: 54.3\n",
            "Epoch [17], Loss: 0.005060657485434786, Accuracy: 94.63 Test_loss: 0.07903946757316589, Test_accuracy: 54.2\n",
            "Epoch [18], Loss: 0.005371475356351584, Accuracy: 94.46 Test_loss: 0.07564254999160766, Test_accuracy: 52.2\n",
            "Epoch [19], Loss: 0.005694200320169329, Accuracy: 94.07 Test_loss: 0.08133261632919311, Test_accuracy: 48.7\n",
            "Epoch [20], Loss: 0.0038668730335775763, Accuracy: 95.92 Test_loss: 0.07163292968273163, Test_accuracy: 55.2\n",
            "Epoch [21], Loss: 0.004599174152733758, Accuracy: 95.18 Test_loss: 0.07765065874159337, Test_accuracy: 51.8\n",
            "Epoch [22], Loss: 0.004767675747722387, Accuracy: 95.14 Test_loss: 0.06941078382730484, Test_accuracy: 54.5\n",
            "Epoch [23], Loss: 0.0038010591390542684, Accuracy: 96.01 Test_loss: 0.0730646060705185, Test_accuracy: 54.9\n",
            "Epoch [24], Loss: 0.003860994655243121, Accuracy: 95.89 Test_loss: 0.07614863622188568, Test_accuracy: 53.7\n",
            "Epoch [25], Loss: 0.004032721632020548, Accuracy: 95.99 Test_loss: 0.08637645798921585, Test_accuracy: 50.6\n",
            "Epoch [26], Loss: 0.005248680870141834, Accuracy: 94.8 Test_loss: 0.07521989631652833, Test_accuracy: 54.5\n",
            "Epoch [27], Loss: 0.0026100080401869493, Accuracy: 97.5 Test_loss: 0.09317206907272339, Test_accuracy: 52.1\n",
            "Epoch [28], Loss: 0.0025793067581020295, Accuracy: 97.22 Test_loss: 0.08736696004867554, Test_accuracy: 51.5\n",
            "Epoch [29], Loss: 0.0029179284828540404, Accuracy: 97.03 Test_loss: 0.08305203795433044, Test_accuracy: 54.4\n",
            "Epoch [30], Loss: 0.0026306780147482643, Accuracy: 97.21 Test_loss: 0.09153550601005554, Test_accuracy: 48.2\n",
            "Epoch [31], Loss: 0.0025427662513684483, Accuracy: 97.43 Test_loss: 0.08553352999687194, Test_accuracy: 55.1\n",
            "Epoch [32], Loss: 0.0026310655551264064, Accuracy: 97.39 Test_loss: 0.08946249556541443, Test_accuracy: 51.2\n",
            "Epoch [33], Loss: 0.0024295025498373432, Accuracy: 97.52 Test_loss: 0.08014108872413635, Test_accuracy: 53.9\n",
            "Epoch [34], Loss: 0.003725684002484195, Accuracy: 96.28 Test_loss: 0.08754186260700225, Test_accuracy: 50.9\n",
            "Epoch [35], Loss: 0.0030000867053866388, Accuracy: 96.84 Test_loss: 0.07266236877441407, Test_accuracy: 56.8\n",
            "Epoch [36], Loss: 0.0034821315257577224, Accuracy: 96.62 Test_loss: 0.08096972727775574, Test_accuracy: 55.9\n",
            "Epoch [37], Loss: 0.0024441236182581633, Accuracy: 97.45 Test_loss: 0.07743011981248855, Test_accuracy: 56.2\n",
            "Epoch [38], Loss: 0.0021386723586474545, Accuracy: 97.92 Test_loss: 0.0886808751821518, Test_accuracy: 54.3\n",
            "Epoch [39], Loss: 0.0013681446379225236, Accuracy: 98.5 Test_loss: 0.08769657015800476, Test_accuracy: 55.1\n",
            "Epoch [40], Loss: 0.0019317621303140185, Accuracy: 97.98 Test_loss: 0.11852740097045898, Test_accuracy: 48.8\n",
            "Epoch [41], Loss: 0.002477035742602311, Accuracy: 97.44 Test_loss: 0.0868501342535019, Test_accuracy: 52.9\n",
            "Epoch [42], Loss: 0.0018866251497063787, Accuracy: 98.05 Test_loss: 0.07630154705047608, Test_accuracy: 58.0\n",
            "Epoch [43], Loss: 0.0009236679713241756, Accuracy: 99.07 Test_loss: 0.09283136683702468, Test_accuracy: 54.2\n",
            "Epoch [44], Loss: 0.003276038818040979, Accuracy: 97.03 Test_loss: 0.10198158025741577, Test_accuracy: 48.9\n",
            "Epoch [45], Loss: 0.0019742711751372555, Accuracy: 98.0 Test_loss: 0.0896429203748703, Test_accuracy: 51.1\n",
            "Epoch [46], Loss: 0.0010112616780068493, Accuracy: 99.0 Test_loss: 0.0881994367837906, Test_accuracy: 55.7\n",
            "Epoch [47], Loss: 0.001264517391618574, Accuracy: 98.87 Test_loss: 0.09190770173072815, Test_accuracy: 52.6\n",
            "Epoch [48], Loss: 0.0014181205634929937, Accuracy: 98.6 Test_loss: 0.09724627614021301, Test_accuracy: 54.1\n",
            "Epoch [49], Loss: 0.0027635174907394686, Accuracy: 97.18 Test_loss: 0.1042520067691803, Test_accuracy: 47.3\n",
            "Finished Training\n"
          ]
        },
        {
          "output_type": "display_data",
          "data": {
            "text/plain": [
              "<IPython.core.display.HTML object>"
            ],
            "text/html": [
              "Waiting for W&B process to finish... <strong style=\"color:green\">(success).</strong>"
            ]
          },
          "metadata": {}
        },
        {
          "output_type": "display_data",
          "data": {
            "text/plain": [
              "VBox(children=(Label(value='0.001 MB of 0.001 MB uploaded (0.000 MB deduped)\\r'), FloatProgress(value=1.0, max…"
            ],
            "application/vnd.jupyter.widget-view+json": {
              "version_major": 2,
              "version_minor": 0,
              "model_id": "0162e53146fb476ab7676016cc6c54a8"
            }
          },
          "metadata": {}
        },
        {
          "output_type": "display_data",
          "data": {
            "text/plain": [
              "<IPython.core.display.HTML object>"
            ],
            "text/html": [
              "<style>\n",
              "    table.wandb td:nth-child(1) { padding: 0 10px; text-align: left ; width: auto;} td:nth-child(2) {text-align: left ; width: 100%}\n",
              "    .wandb-row { display: flex; flex-direction: row; flex-wrap: wrap; justify-content: flex-start; width: 100% }\n",
              "    .wandb-col { display: flex; flex-direction: column; flex-basis: 100%; flex: 1; padding: 10px; }\n",
              "    </style>\n",
              "<div class=\"wandb-row\"><div class=\"wandb-col\"><h3>Run history:</h3><br/><table class=\"wandb\"><tr><td>Epoch</td><td>▁▁▁▁▂▂▂▂▂▃▃▃▃▃▃▄▄▄▄▄▅▅▅▅▅▅▆▆▆▆▆▆▇▇▇▇▇███</td></tr><tr><td>Test Accuracy</td><td>▁▂▄▆█▆▆▃█▄▇▇▇▇▇▆▇▆▇▇▆▇▆▆▅▇▆▇█▇▇▇▅▆█▇▆▇▆▅</td></tr><tr><td>Test Loss</td><td>▂▂▁▂▁▃▂▄▂▄▄▃▄▃▄▄▃▄▃▄▅▄▆▅▅▅▅▄▄▄▄▅█▅▄▅▅▅▅▇</td></tr><tr><td>Train Accuracy</td><td>▁▂▃▃▄▅▅▆▇▇▇▇▇▇██████████████████████████</td></tr><tr><td>Train Loss</td><td>█▇▆▆▅▄▄▃▂▂▂▂▂▂▁▁▁▁▁▁▁▁▁▁▁▁▁▁▁▁▁▁▁▁▁▁▁▁▁▁</td></tr></table><br/></div><div class=\"wandb-col\"><h3>Run summary:</h3><br/><table class=\"wandb\"><tr><td>Epoch</td><td>49</td></tr><tr><td>Test Accuracy</td><td>47.3</td></tr><tr><td>Test Loss</td><td>0.10425</td></tr><tr><td>Train Accuracy</td><td>97.18</td></tr><tr><td>Train Loss</td><td>0.00276</td></tr></table><br/></div></div>"
            ]
          },
          "metadata": {}
        },
        {
          "output_type": "display_data",
          "data": {
            "text/plain": [
              "<IPython.core.display.HTML object>"
            ],
            "text/html": [
              "Synced <strong style=\"color:#cdcd00\">radiant-sun-7</strong>: <a href=\"https://wandb.ai/te11st/transfer_learning/runs/3pm45jpm\" target=\"_blank\">https://wandb.ai/te11st/transfer_learning/runs/3pm45jpm</a><br/>Synced 5 W&B file(s), 0 media file(s), 0 artifact file(s) and 0 other file(s)"
            ]
          },
          "metadata": {}
        },
        {
          "output_type": "display_data",
          "data": {
            "text/plain": [
              "<IPython.core.display.HTML object>"
            ],
            "text/html": [
              "Find logs at: <code>./wandb/run-20220811_084539-3pm45jpm/logs</code>"
            ]
          },
          "metadata": {}
        }
      ]
    }
  ]
}